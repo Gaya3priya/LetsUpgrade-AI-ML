{
 "cells": [
  {
   "cell_type": "markdown",
   "metadata": {},
   "source": [
    "# Assignment:"
   ]
  },
  {
   "cell_type": "markdown",
   "metadata": {},
   "source": [
    "## 1) Create a 3x3x3 array with random values."
   ]
  },
  {
   "cell_type": "code",
   "execution_count": 1,
   "metadata": {},
   "outputs": [
    {
     "name": "stdout",
     "output_type": "stream",
     "text": [
      "3x3x3 array with random values\n",
      "\n",
      "[[[0.17665876 0.18557764 0.20296639]\n",
      "  [0.35460528 0.10922152 0.35470997]\n",
      "  [0.43603073 0.38995517 0.46018142]]\n",
      "\n",
      " [[0.14685062 0.96155628 0.10077823]\n",
      "  [0.54663958 0.9487031  0.51862356]\n",
      "  [0.89610859 0.3558192  0.71311391]]\n",
      "\n",
      " [[0.25942105 0.24913539 0.10785068]\n",
      "  [0.58545305 0.62979111 0.22311353]\n",
      "  [0.69955556 0.07819059 0.07211565]]]\n"
     ]
    }
   ],
   "source": [
    "import numpy as np\n",
    "arr=np.random.random((3,3,3))\n",
    "print(\"3x3x3 array with random values\\n\")\n",
    "print(arr)"
   ]
  },
  {
   "cell_type": "markdown",
   "metadata": {},
   "source": [
    " ## 2) Create a 5x5 matrix with values 1,2,3,4 just below the diagonal."
   ]
  },
  {
   "cell_type": "code",
   "execution_count": 2,
   "metadata": {},
   "outputs": [
    {
     "name": "stdout",
     "output_type": "stream",
     "text": [
      "A 5x5 matrix with 1,2,3,4 just below Diagonal:\n",
      "\n",
      " [[0 0 0 0 0]\n",
      " [1 0 0 0 0]\n",
      " [0 2 0 0 0]\n",
      " [0 0 3 0 0]\n",
      " [0 0 0 4 0]]\n"
     ]
    }
   ],
   "source": [
    "matrix = np.zeros((5,5))\n",
    "matrix = np.diag(np.arange(1,5),k=-1)\n",
    "print('A 5x5 matrix with 1,2,3,4 just below Diagonal:\\n\\n', matrix)"
   ]
  },
  {
   "cell_type": "markdown",
   "metadata": {},
   "source": [
    "## 3) Create a 8x8 matrix and fill it with a checkerboard pattern."
   ]
  },
  {
   "cell_type": "code",
   "execution_count": 3,
   "metadata": {},
   "outputs": [
    {
     "name": "stdout",
     "output_type": "stream",
     "text": [
      "Checkerboard pattern:\n",
      "\n",
      "[[0 1 0 1 0 1 0 1]\n",
      " [1 0 1 0 1 0 1 0]\n",
      " [0 1 0 1 0 1 0 1]\n",
      " [1 0 1 0 1 0 1 0]\n",
      " [0 1 0 1 0 1 0 1]\n",
      " [1 0 1 0 1 0 1 0]\n",
      " [0 1 0 1 0 1 0 1]\n",
      " [1 0 1 0 1 0 1 0]]\n"
     ]
    }
   ],
   "source": [
    "matrix1=np.zeros((8,8),int)\n",
    "matrix1[1::2,::2]=1\n",
    "matrix1[::2,1::2]=1\n",
    "print(\"Checkerboard pattern:\\n\")\n",
    "print(matrix1)"
   ]
  },
  {
   "cell_type": "markdown",
   "metadata": {},
   "source": [
    "## 4) Normalize a 5x5 random matrix. "
   ]
  },
  {
   "cell_type": "code",
   "execution_count": 4,
   "metadata": {},
   "outputs": [
    {
     "name": "stdout",
     "output_type": "stream",
     "text": [
      "Original:\n",
      "\n",
      "[[0.61119206 0.31836161 0.66314355 0.26822564 0.55560046]\n",
      " [0.97146221 0.69820121 0.71882921 0.86094104 0.86579487]\n",
      " [0.15215771 0.41821329 0.41746501 0.16559903 0.62752619]\n",
      " [0.58813049 0.78421047 0.26384824 0.23011091 0.14625205]\n",
      " [0.34626101 0.97641938 0.97914974 0.45345143 0.08869093]]\n",
      "Normalization:\n",
      "\n",
      "[[0.58677743 0.25792398 0.64511982 0.20162046 0.52434714]\n",
      " [0.99136678 0.68449015 0.70765573 0.86724967 0.87270061]\n",
      " [0.07127425 0.37005908 0.36921875 0.08636908 0.60512093]\n",
      " [0.56087891 0.78107997 0.19670457 0.15881698 0.06464209]\n",
      " [0.28925548 0.99693377 1.         0.40963209 0.        ]]\n"
     ]
    }
   ],
   "source": [
    "x=np.random.random((5,5))\n",
    "print(\"Original:\\n\")\n",
    "print(x)\n",
    "xmax,xmin =x.max(),x.min()\n",
    "x=(x-xmin)/(xmax-xmin)\n",
    "print(\"Normalization:\\n\")\n",
    "print(x)"
   ]
  },
  {
   "cell_type": "markdown",
   "metadata": {},
   "source": [
    "## 5)  How to find common values between two arrays?"
   ]
  },
  {
   "cell_type": "code",
   "execution_count": 5,
   "metadata": {},
   "outputs": [
    {
     "name": "stdout",
     "output_type": "stream",
     "text": [
      "Array1:  [ 0 13 25 40 68]\n",
      "Array2:  [40 13 44 56 80]\n",
      "Common values between two arrays: [13 40]\n"
     ]
    }
   ],
   "source": [
    "array1 = np.array([0, 13, 25, 40, 68])\n",
    "array2 = np.array([40, 13, 44,56,80])\n",
    "print(\"Array1: \", array1)\n",
    "print(\"Array2: \", array2)\n",
    "print(\"Common values between two arrays:\", np.intersect1d(array1, array2))"
   ]
  },
  {
   "cell_type": "markdown",
   "metadata": {},
   "source": [
    "## 6) How to get the dates of yesterday, today and tomorrow?"
   ]
  },
  {
   "cell_type": "code",
   "execution_count": 8,
   "metadata": {},
   "outputs": [
    {
     "name": "stdout",
     "output_type": "stream",
     "text": [
      "Yesterday:  2020-07-26\n",
      "Today:  2020-07-27\n",
      "Tomorrow:  2020-07-28\n"
     ]
    }
   ],
   "source": [
    "import datetime as dt\n",
    "today = dt.date.today()\n",
    "yesterday = today - dt.timedelta(days = 1)\n",
    "tomorrow = today + dt.timedelta(days = 1) \n",
    "\n",
    "print('Yesterday: ',yesterday)\n",
    "print('Today: ', today)\n",
    "print('Tomorrow: ', tomorrow)"
   ]
  },
  {
   "cell_type": "markdown",
   "metadata": {},
   "source": [
    "## 7) Consider two random array A and B, check if they are equal."
   ]
  },
  {
   "cell_type": "code",
   "execution_count": 9,
   "metadata": {},
   "outputs": [
    {
     "name": "stdout",
     "output_type": "stream",
     "text": [
      "False\n"
     ]
    }
   ],
   "source": [
    "A = np.random.randint(0,2,5)\n",
    "B = np.random.randint(0,2,5)\n",
    "equal = np.allclose(A,B)\n",
    "print(equal)"
   ]
  },
  {
   "cell_type": "markdown",
   "metadata": {},
   "source": [
    "## 8) Create random vector of size 10 and replace the maximum value by 0."
   ]
  },
  {
   "cell_type": "code",
   "execution_count": 11,
   "metadata": {},
   "outputs": [
    {
     "name": "stdout",
     "output_type": "stream",
     "text": [
      "Intial one:\n",
      " [0.75063006 0.41615779 0.68575199 0.70992623 0.63415883 0.04071509\n",
      " 0.2588091  0.98097494 0.0726029  0.11209666]\n",
      "After replacing the maximum value by 0:\n",
      " [0.75063006 0.41615779 0.68575199 0.70992623 0.63415883 0.04071509\n",
      " 0.2588091  0.         0.0726029  0.11209666]\n"
     ]
    }
   ],
   "source": [
    "Z = np.random.random(10)\n",
    "print(\"Intial one:\\n\",Z)\n",
    "Z[Z.argmax()] = 0\n",
    "print(\"After replacing the maximum value by 0:\\n\",Z)"
   ]
  },
  {
   "cell_type": "markdown",
   "metadata": {},
   "source": [
    "##  9) How to print all the values of an array?"
   ]
  },
  {
   "cell_type": "code",
   "execution_count": 12,
   "metadata": {},
   "outputs": [
    {
     "name": "stdout",
     "output_type": "stream",
     "text": [
      "1D array:\n",
      "\n",
      "The element at index 0 is :1\n",
      "The element at index 1 is :2\n",
      "The element at index 2 is :32\n",
      "The element at index 3 is :3\n",
      "The element at index 4 is :4\n",
      "2D array:\n",
      "\n",
      "The element at index 0 is : [1 2 3]\n",
      "The element at index 1 is : [5 6 7]\n"
     ]
    }
   ],
   "source": [
    "print(\"1D array:\\n\")\n",
    "a= np.array([1,2,32,3,4])\n",
    "for i in range(len(a)):\n",
    "    print(f\"The element at index {i} is :{a[i]}\")\n",
    "print(\"2D array:\\n\")\n",
    "b=np.array([[1,2,3],[5,6,7]])\n",
    "for i in range(len(b)):\n",
    "    print(f\"The element at index {i} is : {b[i]}\")"
   ]
  },
  {
   "cell_type": "markdown",
   "metadata": {},
   "source": [
    "## 10) Subtract the mean of each row of a matrix."
   ]
  },
  {
   "cell_type": "code",
   "execution_count": 14,
   "metadata": {},
   "outputs": [
    {
     "name": "stdout",
     "output_type": "stream",
     "text": [
      "Initial Array:\n",
      " [[  1 112   0   0]\n",
      " [  2 165   0   0]\n",
      " [ 31 121   0   0]]\n",
      "Mean of Each row:  [28.25 41.75 38.  ]\n",
      "\n",
      "Resultant Matrix After Subtracting Mean:\n",
      " [[-27.25  83.75 -28.25 -28.25]\n",
      " [-39.75 123.25 -41.75 -41.75]\n",
      " [ -7.    83.   -38.   -38.  ]]\n"
     ]
    }
   ],
   "source": [
    "arr = np.array([[1,112,0,0], [2,165,0,0], [31,121,0,0]])\n",
    "print('Initial Array:\\n', arr)\n",
    "print('Mean of Each row: ',arr.mean(axis=1))\n",
    "mean = arr - arr.mean(axis=1, keepdims=True) \n",
    "print('\\nResultant Matrix After Subtracting Mean:\\n',mean)"
   ]
  },
  {
   "cell_type": "markdown",
   "metadata": {},
   "source": [
    "## 11) Consider a given vector, how to add 1 to each element indexed by a second vector (be careful with repeated indices)?"
   ]
  },
  {
   "cell_type": "code",
   "execution_count": 17,
   "metadata": {},
   "outputs": [
    {
     "name": "stdout",
     "output_type": "stream",
     "text": [
      "Initial Vector:\n",
      " [1. 1. 1. 1. 1. 1. 1. 1. 1. 1.]\n",
      "Random Values:\n",
      " [1 9 6 8 5 1 6 3 6 2 8 2 7 1 7 4 9 6 9 2]\n",
      "Resultant Vector:\n",
      " [1. 4. 4. 2. 2. 2. 5. 3. 3. 4.]\n"
     ]
    }
   ],
   "source": [
    "Z = np.ones(10)\n",
    "print(\"Initial Vector:\\n\",Z)\n",
    "I = np.random.randint(0, len(Z),20)\n",
    "print(\"Random Values:\\n\",I)\n",
    "Z += np.bincount(I, minlength=len(Z))\n",
    "print(\"Resultant Vector:\\n\",Z)"
   ]
  },
  {
   "cell_type": "markdown",
   "metadata": {},
   "source": [
    "## 12) How to get the diagonal of a dot product?"
   ]
  },
  {
   "cell_type": "code",
   "execution_count": 21,
   "metadata": {},
   "outputs": [
    {
     "name": "stdout",
     "output_type": "stream",
     "text": [
      "Array-1:\n",
      " [[8 0 5]\n",
      " [6 3 8]\n",
      " [3 3 1]]\n",
      "Array-2:\n",
      " [[5 7 5]\n",
      " [5 9 2]\n",
      " [9 3 9]]\n",
      "\n",
      "Dot product:\n",
      " [[ 85  71  85]\n",
      " [117  93 108]\n",
      " [ 39  51  30]]\n",
      "The diagonal of a dot product:\n",
      " [85 93 30]\n"
     ]
    }
   ],
   "source": [
    "A = np.random.randint(0,10,(3,3))\n",
    "B= np.random.randint(0,10,(3,3))\n",
    "\n",
    "print(\"Array-1:\\n\",A)\n",
    "print(\"Array-2:\\n\",B)\n",
    "\n",
    "print('\\nDot product:\\n',np.dot(A,B))\n",
    "print(\"The diagonal of a dot product:\\n\",np.diag(np.dot(A, B)))\n"
   ]
  },
  {
   "cell_type": "markdown",
   "metadata": {},
   "source": [
    "## 13) How to find the most frequent value in an array?"
   ]
  },
  {
   "cell_type": "code",
   "execution_count": 25,
   "metadata": {},
   "outputs": [
    {
     "name": "stdout",
     "output_type": "stream",
     "text": [
      "[8 9 2 6 7 5 4 2 3 7 8 9 3 7 9 2 7 9 4 6 0 5 7 7 6 4 0 0 4 6 4 7 2 9 6 8 2\n",
      " 7 6 4 4 2 3 5 6 5 6 5 1 5]\n",
      "rank: 6\n"
     ]
    }
   ],
   "source": [
    "Z = np.random.randint(0,10,50)\n",
    "print (Z)\n",
    "print('rank:', np.bincount(Z).argmax())"
   ]
  },
  {
   "cell_type": "markdown",
   "metadata": {},
   "source": [
    "## 14) How to get the n largest values of an array?"
   ]
  },
  {
   "cell_type": "code",
   "execution_count": 27,
   "metadata": {},
   "outputs": [
    {
     "name": "stdout",
     "output_type": "stream",
     "text": [
      "[9995 9996 9997 9998 9999]\n"
     ]
    }
   ],
   "source": [
    "Z = np.arange(10000)\n",
    "np.random.shuffle(Z)\n",
    "n = 5\n",
    "print (Z[np.argsort(Z)[-n:]])"
   ]
  },
  {
   "cell_type": "markdown",
   "metadata": {},
   "source": [
    "## 15) How to create a record array from a regular array?"
   ]
  },
  {
   "cell_type": "code",
   "execution_count": 32,
   "metadata": {},
   "outputs": [
    {
     "name": "stdout",
     "output_type": "stream",
     "text": [
      "Regular array:\n",
      " [['Gayathri' '3.4' '8']\n",
      " ['Priya' '4.7' '9']]\n",
      "Record array:\n",
      " [(b'Gayathri', 3.4, 8) (b'Priya', 4.7, 9)]\n"
     ]
    }
   ],
   "source": [
    "Z = np.array([(\"Gayathri\", 3.4, 8),\n",
    "              (\"Priya\", 4.7, 9)])\n",
    "print(\"Regular array:\\n\",Z)\n",
    "R = np.core.records.fromarrays(Z.T,\n",
    "                               names='col1, col2, col3',\n",
    "                               formats = 'S8, f8, i8')\n",
    "print(\"Record array:\\n\",R)"
   ]
  }
 ],
 "metadata": {
  "kernelspec": {
   "display_name": "Python 3",
   "language": "python",
   "name": "python3"
  },
  "language_info": {
   "codemirror_mode": {
    "name": "ipython",
    "version": 3
   },
   "file_extension": ".py",
   "mimetype": "text/x-python",
   "name": "python",
   "nbconvert_exporter": "python",
   "pygments_lexer": "ipython3",
   "version": "3.7.6"
  }
 },
 "nbformat": 4,
 "nbformat_minor": 4
}
