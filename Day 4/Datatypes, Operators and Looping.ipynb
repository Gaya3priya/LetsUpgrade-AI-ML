{
 "cells": [
  {
   "cell_type": "markdown",
   "metadata": {},
   "source": [
    "# Assignment Day 4"
   ]
  },
  {
   "cell_type": "markdown",
   "metadata": {},
   "source": [
    "## 1) Write a program to demonstrate various operations on complex numbers.  "
   ]
  },
  {
   "cell_type": "code",
   "execution_count": 1,
   "metadata": {},
   "outputs": [
    {
     "name": "stdout",
     "output_type": "stream",
     "text": [
      "You know that complex number is in the form of a+bi\n",
      "Enter a (real root of 1st complex number):2\n",
      "Enter b (imaginary root of 1st complex number):3\n",
      "Enter c (real root of 2nd complex number):4\n",
      "Enter d (imaginary root of 2nd complex number):5\n",
      "The Addition of two complex numbers is (6+8j)\n",
      "The Subtraction of two complex numbers is (-2-2j)\n",
      "The Multiplication of two complex numbers is (-7+22j)\n",
      "The Division of two complex numbers is (0.5609756097560976+0.0487804878048781j)\n",
      "The operations like floor division and modulo can't be performed on complex numbers!\n"
     ]
    }
   ],
   "source": [
    "print(\"You know that complex number is in the form of a+bi\")\n",
    "a=int(input(\"Enter a (real root of 1st complex number):\"))\n",
    "b=int(input(\"Enter b (imaginary root of 1st complex number):\"))\n",
    "c=int(input(\"Enter c (real root of 2nd complex number):\"))\n",
    "d=int(input(\"Enter d (imaginary root of 2nd complex number):\"))\n",
    "print(\"The Addition of two complex numbers is\",complex(a,b)+complex(c,d))\n",
    "print(\"The Subtraction of two complex numbers is\",complex(a,b)-complex(c,d))\n",
    "print(\"The Multiplication of two complex numbers is\",complex(a,b)*complex(c,d))\n",
    "print(\"The Division of two complex numbers is\",complex(a,b)/complex(c,d))\n",
    "print(\"The operations like floor division and modulo can't be performed on complex numbers!\")\n"
   ]
  },
  {
   "cell_type": "markdown",
   "metadata": {},
   "source": [
    "## OR you can perform operations directly like.. "
   ]
  },
  {
   "cell_type": "code",
   "execution_count": 6,
   "metadata": {},
   "outputs": [
    {
     "name": "stdout",
     "output_type": "stream",
     "text": [
      "(6+8j) (-2-2j) (-7+22j) (0.5609756097560976+0.0487804878048781j)\n"
     ]
    }
   ],
   "source": [
    "a=2+3j\n",
    "b=4+5j\n",
    "print(a+b,a-b,a*b,a/b)"
   ]
  },
  {
   "cell_type": "markdown",
   "metadata": {},
   "source": [
    "## 2) Write a program of your choice on range() function. "
   ]
  },
  {
   "cell_type": "markdown",
   "metadata": {},
   "source": [
    "range() function:\n",
    "--\n",
    "1. The range() function returns a sequence of numbers, starting from 0 by default, and increments by 1 (by default), and stops before a specified number.\n",
    "\n",
    "2. Syntax : range(start,stop,step)\n",
    "\n",
    "3. start--Optional. An integer number specifying at which position to start. Default is 0\n",
    "\n",
    "4. stop--Required. An integer number specifying at which position to stop (not included).\n",
    "\n",
    "5. step--Optional. An integer number specifying the incrementation. Default is 1"
   ]
  },
  {
   "cell_type": "code",
   "execution_count": 2,
   "metadata": {},
   "outputs": [
    {
     "name": "stdout",
     "output_type": "stream",
     "text": [
      "Enter any number:5\n",
      "0 1 2 3 4 "
     ]
    }
   ],
   "source": [
    "n=int(input(\"Enter any number:\"))\n",
    "for i in range(n):\n",
    "    print(i,end=\" \")"
   ]
  },
  {
   "cell_type": "markdown",
   "metadata": {},
   "source": [
    "## 3) Consider two numbers. Perform their subtraction and if the result of subtraction is \n",
    "\n",
    "## greater than 25, print their multiplication result else print their division result. "
   ]
  },
  {
   "cell_type": "code",
   "execution_count": 3,
   "metadata": {},
   "outputs": [
    {
     "name": "stdout",
     "output_type": "stream",
     "text": [
      "Enter number1:100\n",
      "Enter number2:50\n",
      "5000\n"
     ]
    }
   ],
   "source": [
    "num1=int(input(\"Enter number1:\"))\n",
    "num2=int(input(\"Enter number2:\"))\n",
    "result=num1-num2\n",
    "if result>25:\n",
    "    print(num1*num2)\n",
    "else:\n",
    "    print(num1/num2)"
   ]
  },
  {
   "cell_type": "markdown",
   "metadata": {},
   "source": [
    "## 4) Consider a list of 10 elements of integer values. If the number in the list is divisible by \n",
    " \n",
    "## 2, print the result as \"square of that number minus 2\".\n",
    " "
   ]
  },
  {
   "cell_type": "code",
   "execution_count": 4,
   "metadata": {},
   "outputs": [
    {
     "name": "stdout",
     "output_type": "stream",
     "text": [
      "square of that number minus 2 i.e., 2\n",
      "square of that number minus 2 i.e., 14\n",
      "square of that number minus 2 i.e., 34\n",
      "square of that number minus 2 i.e., 62\n",
      "square of that number minus 2 i.e., 98\n"
     ]
    }
   ],
   "source": [
    "lst=[1,2,3,4,5,6,7,8,9,10]\n",
    "for i in lst:\n",
    "    if i%2==0:\n",
    "        print(\"square of that number minus 2 i.e.,\",i**2-2)"
   ]
  },
  {
   "cell_type": "markdown",
   "metadata": {},
   "source": [
    "## 5) Consider a list of 10 elements. Print all the elements in the list which are greater \n",
    "\n",
    "##    than 7 when that number is divided 2. "
   ]
  },
  {
   "cell_type": "code",
   "execution_count": 5,
   "metadata": {},
   "outputs": [
    {
     "name": "stdout",
     "output_type": "stream",
     "text": [
      "8\n",
      "10\n"
     ]
    }
   ],
   "source": [
    "lit=[1,2,3,4,5,6,7,8,9,10]\n",
    "for i in lit:\n",
    "    if (i%2==0 and i>7):\n",
    "        print(i)"
   ]
  }
 ],
 "metadata": {
  "kernelspec": {
   "display_name": "Python 3",
   "language": "python",
   "name": "python3"
  },
  "language_info": {
   "codemirror_mode": {
    "name": "ipython",
    "version": 3
   },
   "file_extension": ".py",
   "mimetype": "text/x-python",
   "name": "python",
   "nbconvert_exporter": "python",
   "pygments_lexer": "ipython3",
   "version": "3.7.6"
  }
 },
 "nbformat": 4,
 "nbformat_minor": 4
}
