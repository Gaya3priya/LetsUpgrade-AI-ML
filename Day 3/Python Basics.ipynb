{
 "cells": [
  {
   "cell_type": "markdown",
   "metadata": {},
   "source": [
    "# Assignment Day 3"
   ]
  },
  {
   "cell_type": "markdown",
   "metadata": {},
   "source": [
    "## 1) Write a program to subtract two complex numbers in python."
   ]
  },
  {
   "cell_type": "code",
   "execution_count": 1,
   "metadata": {},
   "outputs": [
    {
     "name": "stdout",
     "output_type": "stream",
     "text": [
      "You know that complex number is in the form of a+bi\n",
      "Enter a (real root of 1st complex number):5\n",
      "Enter b (imaginary root of 1st complex number):4\n",
      "Enter c (real root of 2nd complex number):3\n",
      "Enter d (imaginary root of 2nd complex number):2\n",
      "The subtraction of two complex numbers is (2+2j)\n"
     ]
    }
   ],
   "source": [
    "print(\"You know that complex number is in the form of a+bi\")\n",
    "a=int(input(\"Enter a (real root of 1st complex number):\"))\n",
    "b=int(input(\"Enter b (imaginary root of 1st complex number):\"))\n",
    "c=int(input(\"Enter c (real root of 2nd complex number):\"))\n",
    "d=int(input(\"Enter d (imaginary root of 2nd complex number):\"))\n",
    "print(\"The subtraction of two complex numbers is\",complex(a,b)-complex(c,d))\n"
   ]
  },
  {
   "cell_type": "markdown",
   "metadata": {},
   "source": [
    "## 2) Write a program to find the fourth root of a number."
   ]
  },
  {
   "cell_type": "code",
   "execution_count": 2,
   "metadata": {},
   "outputs": [
    {
     "name": "stdout",
     "output_type": "stream",
     "text": [
      "Enter number:16\n",
      "The fourth root of  16  is  2.0\n"
     ]
    }
   ],
   "source": [
    "num=int(input(\"Enter number:\"))\n",
    "print(\"The fourth root of  \"+str(num)+\"  is \",num**(1/4))\n"
   ]
  },
  {
   "cell_type": "markdown",
   "metadata": {},
   "source": [
    "## 3) Write a program to swap two numbers in Python with the help of a temporary variable."
   ]
  },
  {
   "cell_type": "code",
   "execution_count": 3,
   "metadata": {},
   "outputs": [
    {
     "name": "stdout",
     "output_type": "stream",
     "text": [
      "Enter number1:5\n",
      "Enter number2:10\n",
      "After swapping\n",
      "number1= 10\n",
      "number2= 5\n"
     ]
    }
   ],
   "source": [
    "num1=int(input(\"Enter number1:\"))\n",
    "num2=int(input(\"Enter number2:\"))\n",
    "num3=num1\n",
    "num1=num2\n",
    "num2=num3\n",
    "print(\"After swapping\\nnumber1= \"+str(num1)+\"\\nnumber2= \"+str(num2))"
   ]
  },
  {
   "cell_type": "markdown",
   "metadata": {},
   "source": [
    "## 4) Write a program to swap two numbers in Python without using temporary variable."
   ]
  },
  {
   "cell_type": "code",
   "execution_count": 4,
   "metadata": {},
   "outputs": [
    {
     "name": "stdout",
     "output_type": "stream",
     "text": [
      "Enter number1:5\n",
      "Enter number2:10\n",
      "After swapping\n",
      "number1= 10\n",
      "number2= 5\n"
     ]
    }
   ],
   "source": [
    "num1=int(input(\"Enter number1:\"))\n",
    "num2=int(input(\"Enter number2:\"))\n",
    "num1,num2=num2,num1\n",
    "print(\"After swapping\\nnumber1= \"+str(num1)+\"\\nnumber2= \"+str(num2))"
   ]
  },
  {
   "cell_type": "markdown",
   "metadata": {},
   "source": [
    "## 5) Write a program to convert fahrenheit to kelvin and celsius both. "
   ]
  },
  {
   "cell_type": "code",
   "execution_count": 5,
   "metadata": {},
   "outputs": [
    {
     "name": "stdout",
     "output_type": "stream",
     "text": [
      "Enter temperature in fahrenheit: 100\n",
      "100.00 Fahrenheit is: 37.78 Celsius\n",
      "100.00 Fahrenheit is: 311.28 Kelvin\n"
     ]
    }
   ],
   "source": [
    "fahrenheit = float(input(\"Enter temperature in fahrenheit: \"))\n",
    "celsius = (fahrenheit - 32) * 5/9\n",
    "kelvin = 273.5 + ((fahrenheit - 32.0) * (5.0/9.0))\n",
    "print('%.2f Fahrenheit is: %0.2f Celsius' %(fahrenheit, celsius))\n",
    "print('%.2f Fahrenheit is: %0.2f Kelvin' %(fahrenheit,kelvin))"
   ]
  },
  {
   "cell_type": "markdown",
   "metadata": {},
   "source": [
    "## 6) Write a program to demonstrate all the avialable datatypes in Python."
   ]
  },
  {
   "cell_type": "code",
   "execution_count": 6,
   "metadata": {},
   "outputs": [
    {
     "name": "stdout",
     "output_type": "stream",
     "text": [
      "<class 'int'>\n",
      "<class 'float'>\n",
      "<class 'complex'>\n",
      "<class 'str'>\n",
      "<class 'list'>\n",
      "<class 'tuple'>\n",
      "<class 'set'>\n",
      "<class 'dict'>\n"
     ]
    }
   ],
   "source": [
    "a=2              #int\n",
    "print(type(a))\n",
    "a=2.0            #float\n",
    "print(type(a))\n",
    "a=1+2j           #complex\n",
    "print(type(a))\n",
    "a=\"2\"            #string\n",
    "print(type(a))\n",
    "a=[1,2]          #list\n",
    "print(type(a))\n",
    "a=(1,2)          #tuple  \n",
    "print(type(a))\n",
    "a={1,2}          #set\n",
    "print(type(a))\n",
    "a={\"apple\":1,\"banana\":2} #dictionary\n",
    "print(type(a))"
   ]
  },
  {
   "cell_type": "markdown",
   "metadata": {},
   "source": [
    "## 7) Steps to create Github profile and upload Githubs assignment link. "
   ]
  },
  {
   "cell_type": "markdown",
   "metadata": {},
   "source": [
    "Steps:\n",
    "--\n",
    "1. If you have already account in Github then signin if not signup afterthat signin into your account.\n",
    "\n",
    "2. Create a new repository and name it as \"LetsUpgrade AI-ML\"\n",
    "\n",
    "3. In the description type \"Assignments\"\n",
    "\n",
    "4. Scroll down and click \"Create repository\"\n",
    "\n",
    "5. Afterthat click on the \"Uploading an existing file\"\n",
    "\n",
    "6. You can drag and drop files there or you can choose your files from your computer.\n",
    "\n",
    "7. Drag our Day 3 folder(or our required folder where we have our  assignment file) and simply drop...\n",
    "\n",
    "8. Finally click on \"Commit changes\"\n",
    "\n",
    "9. Click on our folder for example Day 3 and you can see the assignment file.\n",
    "\n",
    "10. Then copy the URL and paste that assignment link in the assignment submission form.."
   ]
  }
 ],
 "metadata": {
  "kernelspec": {
   "display_name": "Python 3",
   "language": "python",
   "name": "python3"
  },
  "language_info": {
   "codemirror_mode": {
    "name": "ipython",
    "version": 3
   },
   "file_extension": ".py",
   "mimetype": "text/x-python",
   "name": "python",
   "nbconvert_exporter": "python",
   "pygments_lexer": "ipython3",
   "version": "3.7.6"
  }
 },
 "nbformat": 4,
 "nbformat_minor": 4
}
