{
 "cells": [
  {
   "cell_type": "markdown",
   "metadata": {},
   "source": [
    "# Assignment Day 5"
   ]
  },
  {
   "cell_type": "markdown",
   "metadata": {},
   "source": [
    "## 1) Write a Python program to find the first 20 non-even prime natural numbers. "
   ]
  },
  {
   "cell_type": "code",
   "execution_count": 21,
   "metadata": {},
   "outputs": [
    {
     "name": "stdout",
     "output_type": "stream",
     "text": [
      "3 5 7 11 13 17 19 23 29 31 37 41 43 47 53 59 61 67 71 73 "
     ]
    }
   ],
   "source": [
    "count=0\n",
    "for num in range(3,100):\n",
    "    if num>1:\n",
    "        for i in range(2,num):\n",
    "            if (num%i==0):\n",
    "                break\n",
    "        else:\n",
    "            print(num,end=\" \")\n",
    "            count+=1\n",
    "            if count==20:\n",
    "                break"
   ]
  },
  {
   "cell_type": "markdown",
   "metadata": {},
   "source": [
    "## 2) Write a Python program to implement 15 functions of string. "
   ]
  },
  {
   "cell_type": "code",
   "execution_count": 22,
   "metadata": {},
   "outputs": [
    {
     "name": "stdout",
     "output_type": "stream",
     "text": [
      "Enter any string:gayathri priya\n",
      "GAYATHRI PRIYA\n",
      "ayirp irhtayag\n",
      "False\n",
      "14\n",
      "y\n",
      " \n",
      "Gayathri priya\n",
      "False\n",
      "False\n",
      "False\n",
      "True\n",
      "False\n",
      "['gayathri', 'priya']\n",
      "GAYATHRI PRIYA\n",
      "gayathri priya\n"
     ]
    }
   ],
   "source": [
    "string=input(\"Enter any string:\")\n",
    "print(string.upper())\n",
    "print(string[::-1])\n",
    "print(string.isalpha())\n",
    "print(len(string))\n",
    "print(max(string))\n",
    "print(min(string))\n",
    "print(string.capitalize())\n",
    "print(string.istitle())\n",
    "print(string.isalnum())\n",
    "print(string.isdigit())\n",
    "print(string.islower())\n",
    "print(string.isupper())\n",
    "print(string.split())\n",
    "print(string.swapcase())\n",
    "print(string.strip())"
   ]
  },
  {
   "cell_type": "markdown",
   "metadata": {},
   "source": [
    "## 3) Write a Python program to check if the given string is a Palindrome or Anagram or \n",
    "\n",
    "## None of them.Display the message accordingly to the user. "
   ]
  },
  {
   "cell_type": "code",
   "execution_count": 30,
   "metadata": {},
   "outputs": [
    {
     "name": "stdout",
     "output_type": "stream",
     "text": [
      "Enter any string:gayathri\n",
      "Entere another string to check:priya\n",
      "Your entered string is neither Palindrome nor Anagram!\n"
     ]
    }
   ],
   "source": [
    "text=input(\"Enter any string:\")\n",
    "text1=input(\"Entere another string to check:\")\n",
    "if (text1==text[::-1]):\n",
    "    print(\"Your entered string is a Palindrome!\")\n",
    "elif(sorted(text1)==sorted(text)):\n",
    "    print(\"Your entered string is a Anagram!\")\n",
    "else:\n",
    "    print(\"Your entered string is neither Palindrome nor Anagram!\")"
   ]
  },
  {
   "cell_type": "markdown",
   "metadata": {},
   "source": [
    "## 4) Write a Python's user defined function that removes all the additional characters from \n",
    "\n",
    "## the string and converts it finally to lower case using built-in lower(). "
   ]
  },
  {
   "cell_type": "code",
   "execution_count": 35,
   "metadata": {},
   "outputs": [
    {
     "name": "stdout",
     "output_type": "stream",
     "text": [
      "Enter any string:Gayathri Priya @ how are you all? smile!\n",
      "gayathripriyahowareyouallsmile\n"
     ]
    }
   ],
   "source": [
    "string=input(\"Enter any string:\")\n",
    "result= ''.join(e for e in string if e.isalnum())\n",
    "print(result.lower())"
   ]
  }
 ],
 "metadata": {
  "kernelspec": {
   "display_name": "Python 3",
   "language": "python",
   "name": "python3"
  },
  "language_info": {
   "codemirror_mode": {
    "name": "ipython",
    "version": 3
   },
   "file_extension": ".py",
   "mimetype": "text/x-python",
   "name": "python",
   "nbconvert_exporter": "python",
   "pygments_lexer": "ipython3",
   "version": "3.7.6"
  }
 },
 "nbformat": 4,
 "nbformat_minor": 4
}
