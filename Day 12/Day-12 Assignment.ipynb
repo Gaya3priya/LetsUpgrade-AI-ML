{
 "cells": [
  {
   "cell_type": "code",
   "execution_count": 1,
   "metadata": {},
   "outputs": [],
   "source": [
    "import pandas as pd"
   ]
  },
  {
   "cell_type": "code",
   "execution_count": 2,
   "metadata": {},
   "outputs": [],
   "source": [
    "dataset=pd.read_csv(\"general_data.csv\")"
   ]
  },
  {
   "cell_type": "code",
   "execution_count": 3,
   "metadata": {},
   "outputs": [
    {
     "data": {
      "text/html": [
       "<div>\n",
       "<style scoped>\n",
       "    .dataframe tbody tr th:only-of-type {\n",
       "        vertical-align: middle;\n",
       "    }\n",
       "\n",
       "    .dataframe tbody tr th {\n",
       "        vertical-align: top;\n",
       "    }\n",
       "\n",
       "    .dataframe thead th {\n",
       "        text-align: right;\n",
       "    }\n",
       "</style>\n",
       "<table border=\"1\" class=\"dataframe\">\n",
       "  <thead>\n",
       "    <tr style=\"text-align: right;\">\n",
       "      <th></th>\n",
       "      <th>Age</th>\n",
       "      <th>Attrition</th>\n",
       "      <th>BusinessTravel</th>\n",
       "      <th>Department</th>\n",
       "      <th>DistanceFromHome</th>\n",
       "      <th>Education</th>\n",
       "      <th>EducationField</th>\n",
       "      <th>EmployeeCount</th>\n",
       "      <th>EmployeeID</th>\n",
       "      <th>Gender</th>\n",
       "      <th>...</th>\n",
       "      <th>NumCompaniesWorked</th>\n",
       "      <th>Over18</th>\n",
       "      <th>PercentSalaryHike</th>\n",
       "      <th>StandardHours</th>\n",
       "      <th>StockOptionLevel</th>\n",
       "      <th>TotalWorkingYears</th>\n",
       "      <th>TrainingTimesLastYear</th>\n",
       "      <th>YearsAtCompany</th>\n",
       "      <th>YearsSinceLastPromotion</th>\n",
       "      <th>YearsWithCurrManager</th>\n",
       "    </tr>\n",
       "  </thead>\n",
       "  <tbody>\n",
       "    <tr>\n",
       "      <th>0</th>\n",
       "      <td>51</td>\n",
       "      <td>No</td>\n",
       "      <td>Travel_Rarely</td>\n",
       "      <td>Sales</td>\n",
       "      <td>6</td>\n",
       "      <td>2</td>\n",
       "      <td>Life Sciences</td>\n",
       "      <td>1</td>\n",
       "      <td>1</td>\n",
       "      <td>Female</td>\n",
       "      <td>...</td>\n",
       "      <td>1.0</td>\n",
       "      <td>Y</td>\n",
       "      <td>11</td>\n",
       "      <td>8</td>\n",
       "      <td>0</td>\n",
       "      <td>1.0</td>\n",
       "      <td>6</td>\n",
       "      <td>1</td>\n",
       "      <td>0</td>\n",
       "      <td>0</td>\n",
       "    </tr>\n",
       "    <tr>\n",
       "      <th>1</th>\n",
       "      <td>31</td>\n",
       "      <td>Yes</td>\n",
       "      <td>Travel_Frequently</td>\n",
       "      <td>Research &amp; Development</td>\n",
       "      <td>10</td>\n",
       "      <td>1</td>\n",
       "      <td>Life Sciences</td>\n",
       "      <td>1</td>\n",
       "      <td>2</td>\n",
       "      <td>Female</td>\n",
       "      <td>...</td>\n",
       "      <td>0.0</td>\n",
       "      <td>Y</td>\n",
       "      <td>23</td>\n",
       "      <td>8</td>\n",
       "      <td>1</td>\n",
       "      <td>6.0</td>\n",
       "      <td>3</td>\n",
       "      <td>5</td>\n",
       "      <td>1</td>\n",
       "      <td>4</td>\n",
       "    </tr>\n",
       "    <tr>\n",
       "      <th>2</th>\n",
       "      <td>32</td>\n",
       "      <td>No</td>\n",
       "      <td>Travel_Frequently</td>\n",
       "      <td>Research &amp; Development</td>\n",
       "      <td>17</td>\n",
       "      <td>4</td>\n",
       "      <td>Other</td>\n",
       "      <td>1</td>\n",
       "      <td>3</td>\n",
       "      <td>Male</td>\n",
       "      <td>...</td>\n",
       "      <td>1.0</td>\n",
       "      <td>Y</td>\n",
       "      <td>15</td>\n",
       "      <td>8</td>\n",
       "      <td>3</td>\n",
       "      <td>5.0</td>\n",
       "      <td>2</td>\n",
       "      <td>5</td>\n",
       "      <td>0</td>\n",
       "      <td>3</td>\n",
       "    </tr>\n",
       "    <tr>\n",
       "      <th>3</th>\n",
       "      <td>38</td>\n",
       "      <td>No</td>\n",
       "      <td>Non-Travel</td>\n",
       "      <td>Research &amp; Development</td>\n",
       "      <td>2</td>\n",
       "      <td>5</td>\n",
       "      <td>Life Sciences</td>\n",
       "      <td>1</td>\n",
       "      <td>4</td>\n",
       "      <td>Male</td>\n",
       "      <td>...</td>\n",
       "      <td>3.0</td>\n",
       "      <td>Y</td>\n",
       "      <td>11</td>\n",
       "      <td>8</td>\n",
       "      <td>3</td>\n",
       "      <td>13.0</td>\n",
       "      <td>5</td>\n",
       "      <td>8</td>\n",
       "      <td>7</td>\n",
       "      <td>5</td>\n",
       "    </tr>\n",
       "    <tr>\n",
       "      <th>4</th>\n",
       "      <td>32</td>\n",
       "      <td>No</td>\n",
       "      <td>Travel_Rarely</td>\n",
       "      <td>Research &amp; Development</td>\n",
       "      <td>10</td>\n",
       "      <td>1</td>\n",
       "      <td>Medical</td>\n",
       "      <td>1</td>\n",
       "      <td>5</td>\n",
       "      <td>Male</td>\n",
       "      <td>...</td>\n",
       "      <td>4.0</td>\n",
       "      <td>Y</td>\n",
       "      <td>12</td>\n",
       "      <td>8</td>\n",
       "      <td>2</td>\n",
       "      <td>9.0</td>\n",
       "      <td>2</td>\n",
       "      <td>6</td>\n",
       "      <td>0</td>\n",
       "      <td>4</td>\n",
       "    </tr>\n",
       "  </tbody>\n",
       "</table>\n",
       "<p>5 rows × 24 columns</p>\n",
       "</div>"
      ],
      "text/plain": [
       "   Age Attrition     BusinessTravel              Department  DistanceFromHome  \\\n",
       "0   51        No      Travel_Rarely                   Sales                 6   \n",
       "1   31       Yes  Travel_Frequently  Research & Development                10   \n",
       "2   32        No  Travel_Frequently  Research & Development                17   \n",
       "3   38        No         Non-Travel  Research & Development                 2   \n",
       "4   32        No      Travel_Rarely  Research & Development                10   \n",
       "\n",
       "   Education EducationField  EmployeeCount  EmployeeID  Gender  ...  \\\n",
       "0          2  Life Sciences              1           1  Female  ...   \n",
       "1          1  Life Sciences              1           2  Female  ...   \n",
       "2          4          Other              1           3    Male  ...   \n",
       "3          5  Life Sciences              1           4    Male  ...   \n",
       "4          1        Medical              1           5    Male  ...   \n",
       "\n",
       "   NumCompaniesWorked Over18 PercentSalaryHike  StandardHours  \\\n",
       "0                 1.0      Y                11              8   \n",
       "1                 0.0      Y                23              8   \n",
       "2                 1.0      Y                15              8   \n",
       "3                 3.0      Y                11              8   \n",
       "4                 4.0      Y                12              8   \n",
       "\n",
       "   StockOptionLevel TotalWorkingYears  TrainingTimesLastYear  YearsAtCompany  \\\n",
       "0                 0               1.0                      6               1   \n",
       "1                 1               6.0                      3               5   \n",
       "2                 3               5.0                      2               5   \n",
       "3                 3              13.0                      5               8   \n",
       "4                 2               9.0                      2               6   \n",
       "\n",
       "   YearsSinceLastPromotion  YearsWithCurrManager  \n",
       "0                        0                     0  \n",
       "1                        1                     4  \n",
       "2                        0                     3  \n",
       "3                        7                     5  \n",
       "4                        0                     4  \n",
       "\n",
       "[5 rows x 24 columns]"
      ]
     },
     "execution_count": 3,
     "metadata": {},
     "output_type": "execute_result"
    }
   ],
   "source": [
    "dataset.head()"
   ]
  },
  {
   "cell_type": "code",
   "execution_count": 4,
   "metadata": {},
   "outputs": [
    {
     "data": {
      "text/plain": [
       "Index(['Age', 'Attrition', 'BusinessTravel', 'Department', 'DistanceFromHome',\n",
       "       'Education', 'EducationField', 'EmployeeCount', 'EmployeeID', 'Gender',\n",
       "       'JobLevel', 'JobRole', 'MaritalStatus', 'MonthlyIncome',\n",
       "       'NumCompaniesWorked', 'Over18', 'PercentSalaryHike', 'StandardHours',\n",
       "       'StockOptionLevel', 'TotalWorkingYears', 'TrainingTimesLastYear',\n",
       "       'YearsAtCompany', 'YearsSinceLastPromotion', 'YearsWithCurrManager'],\n",
       "      dtype='object')"
      ]
     },
     "execution_count": 4,
     "metadata": {},
     "output_type": "execute_result"
    }
   ],
   "source": [
    "dataset.columns"
   ]
  },
  {
   "cell_type": "code",
   "execution_count": 5,
   "metadata": {},
   "outputs": [],
   "source": [
    "from scipy.stats import chi2_contingency"
   ]
  },
  {
   "cell_type": "code",
   "execution_count": 6,
   "metadata": {},
   "outputs": [],
   "source": [
    "dataset2=dataset.dropna()"
   ]
  },
  {
   "cell_type": "code",
   "execution_count": 7,
   "metadata": {},
   "outputs": [
    {
     "data": {
      "text/html": [
       "<div>\n",
       "<style scoped>\n",
       "    .dataframe tbody tr th:only-of-type {\n",
       "        vertical-align: middle;\n",
       "    }\n",
       "\n",
       "    .dataframe tbody tr th {\n",
       "        vertical-align: top;\n",
       "    }\n",
       "\n",
       "    .dataframe thead th {\n",
       "        text-align: right;\n",
       "    }\n",
       "</style>\n",
       "<table border=\"1\" class=\"dataframe\">\n",
       "  <thead>\n",
       "    <tr style=\"text-align: right;\">\n",
       "      <th></th>\n",
       "      <th>Age</th>\n",
       "      <th>Attrition</th>\n",
       "      <th>BusinessTravel</th>\n",
       "      <th>Department</th>\n",
       "      <th>DistanceFromHome</th>\n",
       "      <th>Education</th>\n",
       "      <th>EducationField</th>\n",
       "      <th>EmployeeCount</th>\n",
       "      <th>EmployeeID</th>\n",
       "      <th>Gender</th>\n",
       "      <th>...</th>\n",
       "      <th>NumCompaniesWorked</th>\n",
       "      <th>Over18</th>\n",
       "      <th>PercentSalaryHike</th>\n",
       "      <th>StandardHours</th>\n",
       "      <th>StockOptionLevel</th>\n",
       "      <th>TotalWorkingYears</th>\n",
       "      <th>TrainingTimesLastYear</th>\n",
       "      <th>YearsAtCompany</th>\n",
       "      <th>YearsSinceLastPromotion</th>\n",
       "      <th>YearsWithCurrManager</th>\n",
       "    </tr>\n",
       "  </thead>\n",
       "  <tbody>\n",
       "    <tr>\n",
       "      <th>0</th>\n",
       "      <td>51</td>\n",
       "      <td>No</td>\n",
       "      <td>Travel_Rarely</td>\n",
       "      <td>Sales</td>\n",
       "      <td>6</td>\n",
       "      <td>2</td>\n",
       "      <td>Life Sciences</td>\n",
       "      <td>1</td>\n",
       "      <td>1</td>\n",
       "      <td>Female</td>\n",
       "      <td>...</td>\n",
       "      <td>1.0</td>\n",
       "      <td>Y</td>\n",
       "      <td>11</td>\n",
       "      <td>8</td>\n",
       "      <td>0</td>\n",
       "      <td>1.0</td>\n",
       "      <td>6</td>\n",
       "      <td>1</td>\n",
       "      <td>0</td>\n",
       "      <td>0</td>\n",
       "    </tr>\n",
       "    <tr>\n",
       "      <th>1</th>\n",
       "      <td>31</td>\n",
       "      <td>Yes</td>\n",
       "      <td>Travel_Frequently</td>\n",
       "      <td>Research &amp; Development</td>\n",
       "      <td>10</td>\n",
       "      <td>1</td>\n",
       "      <td>Life Sciences</td>\n",
       "      <td>1</td>\n",
       "      <td>2</td>\n",
       "      <td>Female</td>\n",
       "      <td>...</td>\n",
       "      <td>0.0</td>\n",
       "      <td>Y</td>\n",
       "      <td>23</td>\n",
       "      <td>8</td>\n",
       "      <td>1</td>\n",
       "      <td>6.0</td>\n",
       "      <td>3</td>\n",
       "      <td>5</td>\n",
       "      <td>1</td>\n",
       "      <td>4</td>\n",
       "    </tr>\n",
       "    <tr>\n",
       "      <th>2</th>\n",
       "      <td>32</td>\n",
       "      <td>No</td>\n",
       "      <td>Travel_Frequently</td>\n",
       "      <td>Research &amp; Development</td>\n",
       "      <td>17</td>\n",
       "      <td>4</td>\n",
       "      <td>Other</td>\n",
       "      <td>1</td>\n",
       "      <td>3</td>\n",
       "      <td>Male</td>\n",
       "      <td>...</td>\n",
       "      <td>1.0</td>\n",
       "      <td>Y</td>\n",
       "      <td>15</td>\n",
       "      <td>8</td>\n",
       "      <td>3</td>\n",
       "      <td>5.0</td>\n",
       "      <td>2</td>\n",
       "      <td>5</td>\n",
       "      <td>0</td>\n",
       "      <td>3</td>\n",
       "    </tr>\n",
       "    <tr>\n",
       "      <th>3</th>\n",
       "      <td>38</td>\n",
       "      <td>No</td>\n",
       "      <td>Non-Travel</td>\n",
       "      <td>Research &amp; Development</td>\n",
       "      <td>2</td>\n",
       "      <td>5</td>\n",
       "      <td>Life Sciences</td>\n",
       "      <td>1</td>\n",
       "      <td>4</td>\n",
       "      <td>Male</td>\n",
       "      <td>...</td>\n",
       "      <td>3.0</td>\n",
       "      <td>Y</td>\n",
       "      <td>11</td>\n",
       "      <td>8</td>\n",
       "      <td>3</td>\n",
       "      <td>13.0</td>\n",
       "      <td>5</td>\n",
       "      <td>8</td>\n",
       "      <td>7</td>\n",
       "      <td>5</td>\n",
       "    </tr>\n",
       "    <tr>\n",
       "      <th>4</th>\n",
       "      <td>32</td>\n",
       "      <td>No</td>\n",
       "      <td>Travel_Rarely</td>\n",
       "      <td>Research &amp; Development</td>\n",
       "      <td>10</td>\n",
       "      <td>1</td>\n",
       "      <td>Medical</td>\n",
       "      <td>1</td>\n",
       "      <td>5</td>\n",
       "      <td>Male</td>\n",
       "      <td>...</td>\n",
       "      <td>4.0</td>\n",
       "      <td>Y</td>\n",
       "      <td>12</td>\n",
       "      <td>8</td>\n",
       "      <td>2</td>\n",
       "      <td>9.0</td>\n",
       "      <td>2</td>\n",
       "      <td>6</td>\n",
       "      <td>0</td>\n",
       "      <td>4</td>\n",
       "    </tr>\n",
       "    <tr>\n",
       "      <th>...</th>\n",
       "      <td>...</td>\n",
       "      <td>...</td>\n",
       "      <td>...</td>\n",
       "      <td>...</td>\n",
       "      <td>...</td>\n",
       "      <td>...</td>\n",
       "      <td>...</td>\n",
       "      <td>...</td>\n",
       "      <td>...</td>\n",
       "      <td>...</td>\n",
       "      <td>...</td>\n",
       "      <td>...</td>\n",
       "      <td>...</td>\n",
       "      <td>...</td>\n",
       "      <td>...</td>\n",
       "      <td>...</td>\n",
       "      <td>...</td>\n",
       "      <td>...</td>\n",
       "      <td>...</td>\n",
       "      <td>...</td>\n",
       "      <td>...</td>\n",
       "    </tr>\n",
       "    <tr>\n",
       "      <th>4404</th>\n",
       "      <td>29</td>\n",
       "      <td>No</td>\n",
       "      <td>Travel_Rarely</td>\n",
       "      <td>Sales</td>\n",
       "      <td>4</td>\n",
       "      <td>3</td>\n",
       "      <td>Other</td>\n",
       "      <td>1</td>\n",
       "      <td>4405</td>\n",
       "      <td>Female</td>\n",
       "      <td>...</td>\n",
       "      <td>1.0</td>\n",
       "      <td>Y</td>\n",
       "      <td>18</td>\n",
       "      <td>8</td>\n",
       "      <td>0</td>\n",
       "      <td>6.0</td>\n",
       "      <td>2</td>\n",
       "      <td>6</td>\n",
       "      <td>1</td>\n",
       "      <td>5</td>\n",
       "    </tr>\n",
       "    <tr>\n",
       "      <th>4405</th>\n",
       "      <td>42</td>\n",
       "      <td>No</td>\n",
       "      <td>Travel_Rarely</td>\n",
       "      <td>Research &amp; Development</td>\n",
       "      <td>5</td>\n",
       "      <td>4</td>\n",
       "      <td>Medical</td>\n",
       "      <td>1</td>\n",
       "      <td>4406</td>\n",
       "      <td>Female</td>\n",
       "      <td>...</td>\n",
       "      <td>3.0</td>\n",
       "      <td>Y</td>\n",
       "      <td>17</td>\n",
       "      <td>8</td>\n",
       "      <td>1</td>\n",
       "      <td>10.0</td>\n",
       "      <td>5</td>\n",
       "      <td>3</td>\n",
       "      <td>0</td>\n",
       "      <td>2</td>\n",
       "    </tr>\n",
       "    <tr>\n",
       "      <th>4406</th>\n",
       "      <td>29</td>\n",
       "      <td>No</td>\n",
       "      <td>Travel_Rarely</td>\n",
       "      <td>Research &amp; Development</td>\n",
       "      <td>2</td>\n",
       "      <td>4</td>\n",
       "      <td>Medical</td>\n",
       "      <td>1</td>\n",
       "      <td>4407</td>\n",
       "      <td>Male</td>\n",
       "      <td>...</td>\n",
       "      <td>2.0</td>\n",
       "      <td>Y</td>\n",
       "      <td>15</td>\n",
       "      <td>8</td>\n",
       "      <td>0</td>\n",
       "      <td>10.0</td>\n",
       "      <td>2</td>\n",
       "      <td>3</td>\n",
       "      <td>0</td>\n",
       "      <td>2</td>\n",
       "    </tr>\n",
       "    <tr>\n",
       "      <th>4407</th>\n",
       "      <td>25</td>\n",
       "      <td>No</td>\n",
       "      <td>Travel_Rarely</td>\n",
       "      <td>Research &amp; Development</td>\n",
       "      <td>25</td>\n",
       "      <td>2</td>\n",
       "      <td>Life Sciences</td>\n",
       "      <td>1</td>\n",
       "      <td>4408</td>\n",
       "      <td>Male</td>\n",
       "      <td>...</td>\n",
       "      <td>0.0</td>\n",
       "      <td>Y</td>\n",
       "      <td>20</td>\n",
       "      <td>8</td>\n",
       "      <td>0</td>\n",
       "      <td>5.0</td>\n",
       "      <td>4</td>\n",
       "      <td>4</td>\n",
       "      <td>1</td>\n",
       "      <td>2</td>\n",
       "    </tr>\n",
       "    <tr>\n",
       "      <th>4408</th>\n",
       "      <td>42</td>\n",
       "      <td>No</td>\n",
       "      <td>Travel_Rarely</td>\n",
       "      <td>Sales</td>\n",
       "      <td>18</td>\n",
       "      <td>2</td>\n",
       "      <td>Medical</td>\n",
       "      <td>1</td>\n",
       "      <td>4409</td>\n",
       "      <td>Male</td>\n",
       "      <td>...</td>\n",
       "      <td>0.0</td>\n",
       "      <td>Y</td>\n",
       "      <td>14</td>\n",
       "      <td>8</td>\n",
       "      <td>1</td>\n",
       "      <td>10.0</td>\n",
       "      <td>2</td>\n",
       "      <td>9</td>\n",
       "      <td>7</td>\n",
       "      <td>8</td>\n",
       "    </tr>\n",
       "  </tbody>\n",
       "</table>\n",
       "<p>4382 rows × 24 columns</p>\n",
       "</div>"
      ],
      "text/plain": [
       "      Age Attrition     BusinessTravel              Department  \\\n",
       "0      51        No      Travel_Rarely                   Sales   \n",
       "1      31       Yes  Travel_Frequently  Research & Development   \n",
       "2      32        No  Travel_Frequently  Research & Development   \n",
       "3      38        No         Non-Travel  Research & Development   \n",
       "4      32        No      Travel_Rarely  Research & Development   \n",
       "...   ...       ...                ...                     ...   \n",
       "4404   29        No      Travel_Rarely                   Sales   \n",
       "4405   42        No      Travel_Rarely  Research & Development   \n",
       "4406   29        No      Travel_Rarely  Research & Development   \n",
       "4407   25        No      Travel_Rarely  Research & Development   \n",
       "4408   42        No      Travel_Rarely                   Sales   \n",
       "\n",
       "      DistanceFromHome  Education EducationField  EmployeeCount  EmployeeID  \\\n",
       "0                    6          2  Life Sciences              1           1   \n",
       "1                   10          1  Life Sciences              1           2   \n",
       "2                   17          4          Other              1           3   \n",
       "3                    2          5  Life Sciences              1           4   \n",
       "4                   10          1        Medical              1           5   \n",
       "...                ...        ...            ...            ...         ...   \n",
       "4404                 4          3          Other              1        4405   \n",
       "4405                 5          4        Medical              1        4406   \n",
       "4406                 2          4        Medical              1        4407   \n",
       "4407                25          2  Life Sciences              1        4408   \n",
       "4408                18          2        Medical              1        4409   \n",
       "\n",
       "      Gender  ...  NumCompaniesWorked Over18 PercentSalaryHike  StandardHours  \\\n",
       "0     Female  ...                 1.0      Y                11              8   \n",
       "1     Female  ...                 0.0      Y                23              8   \n",
       "2       Male  ...                 1.0      Y                15              8   \n",
       "3       Male  ...                 3.0      Y                11              8   \n",
       "4       Male  ...                 4.0      Y                12              8   \n",
       "...      ...  ...                 ...    ...               ...            ...   \n",
       "4404  Female  ...                 1.0      Y                18              8   \n",
       "4405  Female  ...                 3.0      Y                17              8   \n",
       "4406    Male  ...                 2.0      Y                15              8   \n",
       "4407    Male  ...                 0.0      Y                20              8   \n",
       "4408    Male  ...                 0.0      Y                14              8   \n",
       "\n",
       "      StockOptionLevel TotalWorkingYears  TrainingTimesLastYear  \\\n",
       "0                    0               1.0                      6   \n",
       "1                    1               6.0                      3   \n",
       "2                    3               5.0                      2   \n",
       "3                    3              13.0                      5   \n",
       "4                    2               9.0                      2   \n",
       "...                ...               ...                    ...   \n",
       "4404                 0               6.0                      2   \n",
       "4405                 1              10.0                      5   \n",
       "4406                 0              10.0                      2   \n",
       "4407                 0               5.0                      4   \n",
       "4408                 1              10.0                      2   \n",
       "\n",
       "      YearsAtCompany  YearsSinceLastPromotion  YearsWithCurrManager  \n",
       "0                  1                        0                     0  \n",
       "1                  5                        1                     4  \n",
       "2                  5                        0                     3  \n",
       "3                  8                        7                     5  \n",
       "4                  6                        0                     4  \n",
       "...              ...                      ...                   ...  \n",
       "4404               6                        1                     5  \n",
       "4405               3                        0                     2  \n",
       "4406               3                        0                     2  \n",
       "4407               4                        1                     2  \n",
       "4408               9                        7                     8  \n",
       "\n",
       "[4382 rows x 24 columns]"
      ]
     },
     "execution_count": 7,
     "metadata": {},
     "output_type": "execute_result"
    }
   ],
   "source": [
    "dataset2.drop_duplicates()"
   ]
  },
  {
   "cell_type": "markdown",
   "metadata": {},
   "source": [
    "## Testing Attrition and Age variables with chi square test\n",
    "### Hypothesis:\n",
    "1. H0 : There is no dependency between Attrition and Age.\n",
    "2. H1 : There is a dependency between Attrition and Age."
   ]
  },
  {
   "cell_type": "code",
   "execution_count": 8,
   "metadata": {},
   "outputs": [
    {
     "name": "stdout",
     "output_type": "stream",
     "text": [
      "Age        18  19  20  21  22  23  24  25  26   27  ...  51  52  53  54  55  \\\n",
      "Attrition                                           ...                       \n",
      "No         12   9  15  21  32  30  57  60  80  134  ...  51  44  51  54  57   \n",
      "Yes        11  18  18  18  15  12  21  18  36    9  ...   6   9   6   0   9   \n",
      "\n",
      "Age        56  57  58  59  60  \n",
      "Attrition                      \n",
      "No         32  12  27  30  15  \n",
      "Yes         9   0  15   0   0  \n",
      "\n",
      "[2 rows x 43 columns]\n"
     ]
    }
   ],
   "source": [
    "chitable=pd.crosstab(dataset2.Attrition,dataset2.Age)\n",
    "print(chitable)"
   ]
  },
  {
   "cell_type": "code",
   "execution_count": 9,
   "metadata": {},
   "outputs": [
    {
     "name": "stdout",
     "output_type": "stream",
     "text": [
      "stats= 352.3011830696416   and   p= 1.20869585240706e-50\n",
      "p is less than 0.05 .So we will the REJECT the null hypothesis(H0)\n"
     ]
    }
   ],
   "source": [
    "stats,p,dof,expected=chi2_contingency(chitable)\n",
    "print(\"stats=\",stats,\"  and   p=\",p)\n",
    "if (p<0.05):\n",
    "    print(\"p is less than 0.05 .So we will the REJECT the null hypothesis(H0)\");\n",
    "elif (p>0.05):\n",
    "    print(\"p is greater than 0.05 .So we will the ACCEPT the null hypothesis(H0)\");\n",
    "    "
   ]
  },
  {
   "cell_type": "markdown",
   "metadata": {},
   "source": [
    "## Testing Attrition and BusinessTravel variables with chi square test\n",
    "### Hypothesis:\n",
    "1. H0 : There is no dependency between Attrition and BusinessTravel.\n",
    "2. H1 : There is a dependency between Attrition and BusinessTravel."
   ]
  },
  {
   "cell_type": "code",
   "execution_count": 10,
   "metadata": {},
   "outputs": [
    {
     "name": "stdout",
     "output_type": "stream",
     "text": [
      "BusinessTravel  Non-Travel  Travel_Frequently  Travel_Rarely\n",
      "Attrition                                                   \n",
      "No                     412                621           2644\n",
      "Yes                     36                204            465\n"
     ]
    }
   ],
   "source": [
    "chitable=pd.crosstab(dataset2.Attrition,dataset2.BusinessTravel)\n",
    "print(chitable)"
   ]
  },
  {
   "cell_type": "code",
   "execution_count": 11,
   "metadata": {},
   "outputs": [
    {
     "name": "stdout",
     "output_type": "stream",
     "text": [
      "stats= 70.07594084831366   and   p= 6.07019702736392e-16\n",
      "p is less than 0.05 .So we will the REJECT the null hypothesis(H0)\n"
     ]
    }
   ],
   "source": [
    "stats,p,dof,expected=chi2_contingency(chitable)\n",
    "print(\"stats=\",stats,\"  and   p=\",p)\n",
    "if (p<0.05):\n",
    "    print(\"p is less than 0.05 .So we will the REJECT the null hypothesis(H0)\");\n",
    "elif (p>0.05):\n",
    "    print(\"p is greater than 0.05 .So we will the ACCEPT the null hypothesis(H0)\");\n",
    "    "
   ]
  },
  {
   "cell_type": "markdown",
   "metadata": {},
   "source": [
    "## Testing Attrition and Department variables with chi square test\n",
    "### Hypothesis:\n",
    "1. H0 : There is no dependency between Attrition and Department.\n",
    "2. H1 : There is a dependency between Attrition and Department."
   ]
  },
  {
   "cell_type": "code",
   "execution_count": 12,
   "metadata": {},
   "outputs": [
    {
     "name": "stdout",
     "output_type": "stream",
     "text": [
      "Department  Human Resources  Research & Development  Sales\n",
      "Attrition                                                 \n",
      "No                      132                    2416   1129\n",
      "Yes                      55                     449    201\n"
     ]
    }
   ],
   "source": [
    "chitable=pd.crosstab(dataset2.Attrition,dataset2.Department)\n",
    "print(chitable)"
   ]
  },
  {
   "cell_type": "code",
   "execution_count": 13,
   "metadata": {},
   "outputs": [
    {
     "name": "stdout",
     "output_type": "stream",
     "text": [
      "stats= 25.89432541916022   and   p= 2.382970570769315e-06\n",
      "p is less than 0.05 .So we will the REJECT the null hypothesis(H0)\n"
     ]
    }
   ],
   "source": [
    "stats,p,dof,expected=chi2_contingency(chitable)\n",
    "print(\"stats=\",stats,\"  and   p=\",p)\n",
    "if (p<0.05):\n",
    "    print(\"p is less than 0.05 .So we will the REJECT the null hypothesis(H0)\");\n",
    "elif (p>0.05):\n",
    "    print(\"p is greater than 0.05 .So we will the ACCEPT the null hypothesis(H0)\");\n",
    "    "
   ]
  },
  {
   "cell_type": "markdown",
   "metadata": {},
   "source": [
    "## Testing Attrition and DistanceFromHome variables with chi square test\n",
    "### Hypothesis:\n",
    "1. H0 : There is no dependency between Attrition and Department.\n",
    "2. H1 : There is a dependency between Attrition and Department."
   ]
  },
  {
   "cell_type": "code",
   "execution_count": 14,
   "metadata": {},
   "outputs": [
    {
     "name": "stdout",
     "output_type": "stream",
     "text": [
      "DistanceFromHome   1    2    3    4    5    6    7    8    9    10  ...  20  \\\n",
      "Attrition                                                           ...       \n",
      "No                528  513  219  158  162  156  204  206  218  198  ...  65   \n",
      "Yes                94  114   29   32   30   21   48   33   35   60  ...   9   \n",
      "\n",
      "DistanceFromHome  21  22  23  24  25  26  27  28  29  \n",
      "Attrition                                             \n",
      "No                48  48  68  75  69  72  27  56  69  \n",
      "Yes                6   9  12   9   6   3   9  11  12  \n",
      "\n",
      "[2 rows x 29 columns]\n"
     ]
    }
   ],
   "source": [
    "chitable=pd.crosstab(dataset2.Attrition,dataset2.DistanceFromHome)\n",
    "print(chitable)"
   ]
  },
  {
   "cell_type": "code",
   "execution_count": 15,
   "metadata": {},
   "outputs": [
    {
     "name": "stdout",
     "output_type": "stream",
     "text": [
      "stats= 103.09280258300478   and   p= 1.5872525392897128e-10\n",
      "p is less than 0.05 .So we will the REJECT the null hypothesis(H0)\n"
     ]
    }
   ],
   "source": [
    "stats,p,dof,expected=chi2_contingency(chitable)\n",
    "print(\"stats=\",stats,\"  and   p=\",p)\n",
    "if (p<0.05):\n",
    "    print(\"p is less than 0.05 .So we will the REJECT the null hypothesis(H0)\");\n",
    "elif (p>0.05):\n",
    "    print(\"p is greater than 0.05 .So we will the ACCEPT the null hypothesis(H0)\");\n",
    "    "
   ]
  },
  {
   "cell_type": "markdown",
   "metadata": {},
   "source": [
    "## Testing Attrition and Education variables with chi square test\n",
    "### Hypothesis:\n",
    "1. H0 : There is no dependency between Attrition and Education.\n",
    "2. H1 : There is a dependency between Attrition and Education."
   ]
  },
  {
   "cell_type": "code",
   "execution_count": 16,
   "metadata": {},
   "outputs": [
    {
     "name": "stdout",
     "output_type": "stream",
     "text": [
      "Education    1    2     3     4    5\n",
      "Attrition                           \n",
      "No         430  683  1438  1003  123\n",
      "Yes         78  159   263   185   20\n"
     ]
    }
   ],
   "source": [
    "chitable=pd.crosstab(dataset2.Attrition,dataset2.Education)\n",
    "print(chitable)"
   ]
  },
  {
   "cell_type": "code",
   "execution_count": 17,
   "metadata": {},
   "outputs": [
    {
     "name": "stdout",
     "output_type": "stream",
     "text": [
      "stats= 6.2735361781270615   and   p= 0.17963050984273224\n",
      "p is greater than 0.05 .So we will the ACCEPT the null hypothesis(H0)\n"
     ]
    }
   ],
   "source": [
    "stats,p,dof,expected=chi2_contingency(chitable)\n",
    "print(\"stats=\",stats,\"  and   p=\",p)\n",
    "if (p<0.05):\n",
    "    print(\"p is less than 0.05 .So we will the REJECT the null hypothesis(H0)\");\n",
    "elif (p>0.05):\n",
    "    print(\"p is greater than 0.05 .So we will the ACCEPT the null hypothesis(H0)\");\n",
    "    "
   ]
  },
  {
   "cell_type": "markdown",
   "metadata": {},
   "source": [
    "## Testing Attrition and EducationField variables with chi square test\n",
    "### Hypothesis:\n",
    "1. H0 : There is no dependency between Attrition and EducationField.\n",
    "2. H1 : There is a dependency between Attrition and EducationField."
   ]
  },
  {
   "cell_type": "code",
   "execution_count": 18,
   "metadata": {},
   "outputs": [
    {
     "name": "stdout",
     "output_type": "stream",
     "text": [
      "EducationField  Human Resources  Life Sciences  Marketing  Medical  Other  \\\n",
      "Attrition                                                                   \n",
      "No                           48           1505        400     1163    214   \n",
      "Yes                          32            301         75      222     30   \n",
      "\n",
      "EducationField  Technical Degree  \n",
      "Attrition                         \n",
      "No                           347  \n",
      "Yes                           45  \n"
     ]
    }
   ],
   "source": [
    "chitable=pd.crosstab(dataset2.Attrition,dataset2.EducationField)\n",
    "print(chitable)"
   ]
  },
  {
   "cell_type": "code",
   "execution_count": 19,
   "metadata": {},
   "outputs": [
    {
     "name": "stdout",
     "output_type": "stream",
     "text": [
      "stats= 43.132860148900384   and   p= 3.472896220587872e-08\n",
      "p is less than 0.05 .So we will the REJECT the null hypothesis(H0)\n"
     ]
    }
   ],
   "source": [
    "stats,p,dof,expected=chi2_contingency(chitable)\n",
    "print(\"stats=\",stats,\"  and   p=\",p)\n",
    "if (p<0.05):\n",
    "    print(\"p is less than 0.05 .So we will the REJECT the null hypothesis(H0)\");\n",
    "elif (p>0.05):\n",
    "    print(\"p is greater than 0.05 .So we will the ACCEPT the null hypothesis(H0)\");\n",
    "    "
   ]
  },
  {
   "cell_type": "markdown",
   "metadata": {},
   "source": [
    "## Testing Attrition and Gender variables with chi square test\n",
    "### Hypothesis:\n",
    "1. H0 : There is no dependency between Attrition and Gender.\n",
    "2. H1 : There is a dependency between Attrition and Gender."
   ]
  },
  {
   "cell_type": "code",
   "execution_count": 20,
   "metadata": {},
   "outputs": [
    {
     "name": "stdout",
     "output_type": "stream",
     "text": [
      "Gender     Female  Male\n",
      "Attrition              \n",
      "No           1488  2189\n",
      "Yes           268   437\n"
     ]
    }
   ],
   "source": [
    "chitable=pd.crosstab(dataset2.Attrition,dataset2.Gender)\n",
    "print(chitable)"
   ]
  },
  {
   "cell_type": "code",
   "execution_count": 21,
   "metadata": {},
   "outputs": [
    {
     "name": "stdout",
     "output_type": "stream",
     "text": [
      "stats= 1.3825823839528295   and   p= 0.23966176275638887\n",
      "p is greater than 0.05 .So we will the ACCEPT the null hypothesis(H0)\n"
     ]
    }
   ],
   "source": [
    "stats,p,dof,expected=chi2_contingency(chitable)\n",
    "print(\"stats=\",stats,\"  and   p=\",p)\n",
    "if (p<0.05):\n",
    "    print(\"p is less than 0.05 .So we will the REJECT the null hypothesis(H0)\");\n",
    "elif (p>0.05):\n",
    "    print(\"p is greater than 0.05 .So we will the ACCEPT the null hypothesis(H0)\");\n",
    "    "
   ]
  },
  {
   "cell_type": "markdown",
   "metadata": {},
   "source": [
    "## Testing Attrition and JobLevel variables with chi square test\n",
    "### Hypothesis:\n",
    "1. H0 : There is no dependency between Attrition and JobLevel.\n",
    "2. H1 : There is a dependency between Attrition and JobLevel."
   ]
  },
  {
   "cell_type": "code",
   "execution_count": 22,
   "metadata": {},
   "outputs": [
    {
     "name": "stdout",
     "output_type": "stream",
     "text": [
      "JobLevel      1     2    3    4    5\n",
      "Attrition                           \n",
      "No         1369  1307  555  267  179\n",
      "Yes         250   283   96   51   25\n"
     ]
    }
   ],
   "source": [
    "chitable=pd.crosstab(dataset2.Attrition,dataset2.JobLevel)\n",
    "print(chitable)"
   ]
  },
  {
   "cell_type": "code",
   "execution_count": 23,
   "metadata": {},
   "outputs": [
    {
     "name": "stdout",
     "output_type": "stream",
     "text": [
      "stats= 7.036480574687178   and   p= 0.13397290697032432\n",
      "p is greater than 0.05 .So we will the ACCEPT the null hypothesis(H0)\n"
     ]
    }
   ],
   "source": [
    "stats,p,dof,expected=chi2_contingency(chitable)\n",
    "print(\"stats=\",stats,\"  and   p=\",p)\n",
    "if (p<0.05):\n",
    "    print(\"p is less than 0.05 .So we will the REJECT the null hypothesis(H0)\");\n",
    "elif (p>0.05):\n",
    "    print(\"p is greater than 0.05 .So we will the ACCEPT the null hypothesis(H0)\");\n",
    "    "
   ]
  },
  {
   "cell_type": "markdown",
   "metadata": {},
   "source": [
    "## Testing Attrition and JobRole variables with chi square test\n",
    "### Hypothesis:\n",
    "1. H0 : There is no dependency between Attrition and JobRole.\n",
    "2. H1 : There is a dependency between Attrition and JobRole."
   ]
  },
  {
   "cell_type": "code",
   "execution_count": 24,
   "metadata": {},
   "outputs": [
    {
     "name": "stdout",
     "output_type": "stream",
     "text": [
      "JobRole    Healthcare Representative  Human Resources  Laboratory Technician  \\\n",
      "Attrition                                                                      \n",
      "No                               333              135                    648   \n",
      "Yes                               56               21                    125   \n",
      "\n",
      "JobRole    Manager  Manufacturing Director  Research Director  \\\n",
      "Attrition                                                       \n",
      "No             263                     381                183   \n",
      "Yes             42                      48                 54   \n",
      "\n",
      "JobRole    Research Scientist  Sales Executive  Sales Representative  \n",
      "Attrition                                                             \n",
      "No                        714              810                   210  \n",
      "Yes                       158              165                    36  \n"
     ]
    }
   ],
   "source": [
    "chitable=pd.crosstab(dataset2.Attrition,dataset2.JobRole)\n",
    "print(chitable)"
   ]
  },
  {
   "cell_type": "code",
   "execution_count": 25,
   "metadata": {},
   "outputs": [
    {
     "name": "stdout",
     "output_type": "stream",
     "text": [
      "stats= 21.893724958847   and   p= 0.005116592717526599\n",
      "p is less than 0.05 .So we will the REJECT the null hypothesis(H0)\n"
     ]
    }
   ],
   "source": [
    "stats,p,dof,expected=chi2_contingency(chitable)\n",
    "print(\"stats=\",stats,\"  and   p=\",p)\n",
    "if (p<0.05):\n",
    "    print(\"p is less than 0.05 .So we will the REJECT the null hypothesis(H0)\");\n",
    "elif (p>0.05):\n",
    "    print(\"p is greater than 0.05 .So we will the ACCEPT the null hypothesis(H0)\");\n",
    "    "
   ]
  },
  {
   "cell_type": "markdown",
   "metadata": {},
   "source": [
    "## Testing Attrition and MaritalStatus variables with chi square test\n",
    "### Hypothesis:\n",
    "1. H0 : There is no dependency between Attrition and MaritalStatus.\n",
    "2. H1 : There is a dependency between Attrition and MaritalStatus."
   ]
  },
  {
   "cell_type": "code",
   "execution_count": 26,
   "metadata": {},
   "outputs": [
    {
     "name": "stdout",
     "output_type": "stream",
     "text": [
      "MaritalStatus  Divorced  Married  Single\n",
      "Attrition                               \n",
      "No                  872     1756    1049\n",
      "Yes                  98      251     356\n"
     ]
    }
   ],
   "source": [
    "chitable=pd.crosstab(dataset2.Attrition,dataset2.MaritalStatus)\n",
    "print(chitable)"
   ]
  },
  {
   "cell_type": "code",
   "execution_count": 27,
   "metadata": {},
   "outputs": [
    {
     "name": "stdout",
     "output_type": "stream",
     "text": [
      "stats= 133.85785802925156   and   p= 8.573051828219379e-30\n",
      "p is less than 0.05 .So we will the REJECT the null hypothesis(H0)\n"
     ]
    }
   ],
   "source": [
    "stats,p,dof,expected=chi2_contingency(chitable)\n",
    "print(\"stats=\",stats,\"  and   p=\",p)\n",
    "if (p<0.05):\n",
    "    print(\"p is less than 0.05 .So we will the REJECT the null hypothesis(H0)\");\n",
    "elif (p>0.05):\n",
    "    print(\"p is greater than 0.05 .So we will the ACCEPT the null hypothesis(H0)\");\n",
    "    "
   ]
  },
  {
   "cell_type": "markdown",
   "metadata": {},
   "source": [
    "## Testing Attrition and MonthlyIncome  variables with chi square test\n",
    "### Hypothesis:\n",
    "1. H0 : There is no dependency between Attrition and MonthlyIncome.\n",
    "2. H1 : There is a dependency between Attrition and MonthlyIncome."
   ]
  },
  {
   "cell_type": "code",
   "execution_count": 30,
   "metadata": {},
   "outputs": [
    {
     "name": "stdout",
     "output_type": "stream",
     "text": [
      "MonthlyIncome  10090   10510   10520   10810   10910   11020   11180   11290   \\\n",
      "Attrition                                                                       \n",
      "No                  0       3       3       3       3       3       3       0   \n",
      "Yes                 3       0       0       0       0       0       0       3   \n",
      "\n",
      "MonthlyIncome  12000   12230   ...  197170  197400  198330  198450  198470  \\\n",
      "Attrition                      ...                                           \n",
      "No                  3       3  ...       3       3       3       3       3   \n",
      "Yes                 0       0  ...       0       0       0       0       0   \n",
      "\n",
      "MonthlyIncome  198590  199260  199430  199730  199990  \n",
      "Attrition                                              \n",
      "No                  0       3       3       3       3  \n",
      "Yes                 3       0       0       0       0  \n",
      "\n",
      "[2 rows x 1349 columns]\n"
     ]
    }
   ],
   "source": [
    "chitable=pd.crosstab(dataset2.Attrition,dataset2.MonthlyIncome)\n",
    "print(chitable)"
   ]
  },
  {
   "cell_type": "code",
   "execution_count": 31,
   "metadata": {},
   "outputs": [
    {
     "name": "stdout",
     "output_type": "stream",
     "text": [
      "stats= 4006.81847073142   and   p= 2.581841223898078e-261\n",
      "p is less than 0.05 .So we will the REJECT the null hypothesis(H0)\n"
     ]
    }
   ],
   "source": [
    "stats,p,dof,expected=chi2_contingency(chitable)\n",
    "print(\"stats=\",stats,\"  and   p=\",p)\n",
    "if (p<0.05):\n",
    "    print(\"p is less than 0.05 .So we will the REJECT the null hypothesis(H0)\");\n",
    "elif (p>0.05):\n",
    "    print(\"p is greater than 0.05 .So we will the ACCEPT the null hypothesis(H0)\");\n",
    "    "
   ]
  },
  {
   "cell_type": "markdown",
   "metadata": {},
   "source": [
    "## Testing Attrition and NumCompaniesWorked variables with chi square test\n",
    "### Hypothesis:\n",
    "1. H0 : There is no dependency between Attrition and NumCompaniesWorked.\n",
    "2. H1 : There is a dependency between Attrition and  NumCompaniesWorked."
   ]
  },
  {
   "cell_type": "code",
   "execution_count": 32,
   "metadata": {},
   "outputs": [
    {
     "name": "stdout",
     "output_type": "stream",
     "text": [
      "NumCompaniesWorked  0.0   1.0  2.0  3.0  4.0  5.0  6.0  7.0  8.0  9.0\n",
      "Attrition                                                            \n",
      "No                  515  1264  390  426  364  141  160  168  129  120\n",
      "Yes                  69   292   48   48   49   46   48   51   18   36\n"
     ]
    }
   ],
   "source": [
    "chitable=pd.crosstab(dataset2.Attrition,dataset2. NumCompaniesWorked)\n",
    "print(chitable)"
   ]
  },
  {
   "cell_type": "code",
   "execution_count": 33,
   "metadata": {},
   "outputs": [
    {
     "name": "stdout",
     "output_type": "stream",
     "text": [
      "stats= 75.85546138415296   and   p= 1.0708854426925246e-12\n",
      "p is less than 0.05 .So we will the REJECT the null hypothesis(H0)\n"
     ]
    }
   ],
   "source": [
    "stats,p,dof,expected=chi2_contingency(chitable)\n",
    "print(\"stats=\",stats,\"  and   p=\",p)\n",
    "if (p<0.05):\n",
    "    print(\"p is less than 0.05 .So we will the REJECT the null hypothesis(H0)\");\n",
    "elif (p>0.05):\n",
    "    print(\"p is greater than 0.05 .So we will the ACCEPT the null hypothesis(H0)\");\n",
    "    "
   ]
  },
  {
   "cell_type": "markdown",
   "metadata": {},
   "source": [
    "## Testing Attrition and PercentSalaryHike variables with chi square test\n",
    "### Hypothesis:\n",
    "1. H0 : There is no dependency between Attrition and PercentSalaryHike.\n",
    "2. H1 : There is a dependency between Attrition and PercentSalaryHike."
   ]
  },
  {
   "cell_type": "code",
   "execution_count": 34,
   "metadata": {},
   "outputs": [
    {
     "name": "stdout",
     "output_type": "stream",
     "text": [
      "PercentSalaryHike   11   12   13   14   15   16   17   18   19   20   21   22  \\\n",
      "Attrition                                                                       \n",
      "No                 538  502  522  510  239  202  199  227  186  138  115  138   \n",
      "Yes                 90   89  100   87   63   29   43   39   42   27   27   30   \n",
      "\n",
      "PercentSalaryHike  23  24  25  \n",
      "Attrition                      \n",
      "No                 68  54  39  \n",
      "Yes                15   9  15  \n"
     ]
    }
   ],
   "source": [
    "chitable=pd.crosstab(dataset2.Attrition,dataset2.PercentSalaryHike)\n",
    "print(chitable)"
   ]
  },
  {
   "cell_type": "code",
   "execution_count": 35,
   "metadata": {},
   "outputs": [
    {
     "name": "stdout",
     "output_type": "stream",
     "text": [
      "stats= 19.132665173042696   and   p= 0.15994173676121282\n",
      "p is greater than 0.05 .So we will the ACCEPT the null hypothesis(H0)\n"
     ]
    }
   ],
   "source": [
    "stats,p,dof,expected=chi2_contingency(chitable)\n",
    "print(\"stats=\",stats,\"  and   p=\",p)\n",
    "if (p<0.05):\n",
    "    print(\"p is less than 0.05 .So we will the REJECT the null hypothesis(H0)\");\n",
    "elif (p>0.05):\n",
    "    print(\"p is greater than 0.05 .So we will the ACCEPT the null hypothesis(H0)\");\n",
    "    "
   ]
  },
  {
   "cell_type": "markdown",
   "metadata": {},
   "source": [
    "## Testing Attrition and StockOptionLevel variables with chi square test\n",
    "### Hypothesis:\n",
    "1. H0 : There is no dependency between Attrition and StockOptionLevel.\n",
    "2. H1 : There is a dependency between Attrition and StockOptionLevel."
   ]
  },
  {
   "cell_type": "code",
   "execution_count": 36,
   "metadata": {},
   "outputs": [
    {
     "name": "stdout",
     "output_type": "stream",
     "text": [
      "StockOptionLevel     0     1    2    3\n",
      "Attrition                             \n",
      "No                1564  1509  388  216\n",
      "Yes                316   267   84   38\n"
     ]
    }
   ],
   "source": [
    "chitable=pd.crosstab(dataset2.Attrition,dataset2.StockOptionLevel)\n",
    "print(chitable)"
   ]
  },
  {
   "cell_type": "code",
   "execution_count": 37,
   "metadata": {},
   "outputs": [
    {
     "name": "stdout",
     "output_type": "stream",
     "text": [
      "stats= 3.444801419724394   and   p= 0.32799207189761653\n",
      "p is greater than 0.05 .So we will the ACCEPT the null hypothesis(H0)\n"
     ]
    }
   ],
   "source": [
    "stats,p,dof,expected=chi2_contingency(chitable)\n",
    "print(\"stats=\",stats,\"  and   p=\",p)\n",
    "if (p<0.05):\n",
    "    print(\"p is less than 0.05 .So we will the REJECT the null hypothesis(H0)\");\n",
    "elif (p>0.05):\n",
    "    print(\"p is greater than 0.05 .So we will the ACCEPT the null hypothesis(H0)\");\n",
    "    "
   ]
  },
  {
   "cell_type": "markdown",
   "metadata": {},
   "source": [
    "## Testing Attrition and TotalWorkingYears variables with chi square test\n",
    "### Hypothesis:\n",
    "1. H0 : There is no dependency between Attrition and TotalWorkingYears.\n",
    "2. H1 : There is a dependency between Attrition and TotalWorkingYears."
   ]
  },
  {
   "cell_type": "code",
   "execution_count": 38,
   "metadata": {},
   "outputs": [
    {
     "name": "stdout",
     "output_type": "stream",
     "text": [
      "TotalWorkingYears  0.0   1.0   2.0   3.0   4.0   5.0   6.0   7.0   8.0   9.0   \\\n",
      "Attrition                                                                       \n",
      "No                   18   122    66    99   152   214   307   189   259   255   \n",
      "Yes                  14   119    27    27    36    48    65    52    47    30   \n",
      "\n",
      "TotalWorkingYears  ...  30.0  31.0  32.0  33.0  34.0  35.0  36.0  37.0  38.0  \\\n",
      "Attrition          ...                                                         \n",
      "No                 ...    21    24    27    18    12     9    18    12     3   \n",
      "Yes                ...     0     3     0     3     3     0     0     0     0   \n",
      "\n",
      "TotalWorkingYears  40.0  \n",
      "Attrition                \n",
      "No                    0  \n",
      "Yes                   6  \n",
      "\n",
      "[2 rows x 40 columns]\n"
     ]
    }
   ],
   "source": [
    "chitable=pd.crosstab(dataset2.Attrition,dataset2.TotalWorkingYears)\n",
    "print(chitable)"
   ]
  },
  {
   "cell_type": "code",
   "execution_count": 39,
   "metadata": {},
   "outputs": [
    {
     "name": "stdout",
     "output_type": "stream",
     "text": [
      "stats= 360.55237130857233   and   p= 1.1111356799847907e-53\n",
      "p is less than 0.05 .So we will the REJECT the null hypothesis(H0)\n"
     ]
    }
   ],
   "source": [
    "stats,p,dof,expected=chi2_contingency(chitable)\n",
    "print(\"stats=\",stats,\"  and   p=\",p)\n",
    "if (p<0.05):\n",
    "    print(\"p is less than 0.05 .So we will the REJECT the null hypothesis(H0)\");\n",
    "elif (p>0.05):\n",
    "    print(\"p is greater than 0.05 .So we will the ACCEPT the null hypothesis(H0)\");\n",
    "    "
   ]
  },
  {
   "cell_type": "markdown",
   "metadata": {},
   "source": [
    "## Testing Attrition and TrainingTimesLastYear variables with chi square test\n",
    "### Hypothesis:\n",
    "1. H0 : There is no dependency between Attrition and TrainingTimesLastYear.\n",
    "2. H1 : There is a dependency between Attrition and TrainingTimesLastYear."
   ]
  },
  {
   "cell_type": "code",
   "execution_count": 40,
   "metadata": {},
   "outputs": [
    {
     "name": "stdout",
     "output_type": "stream",
     "text": [
      "TrainingTimesLastYear    0    1     2     3    4    5    6\n",
      "Attrition                                                 \n",
      "No                     132  183  1351  1208  318  303  182\n",
      "Yes                     30   29   278   258   47   51   12\n"
     ]
    }
   ],
   "source": [
    "chitable=pd.crosstab(dataset2.Attrition,dataset2.TrainingTimesLastYear)\n",
    "print(chitable)"
   ]
  },
  {
   "cell_type": "code",
   "execution_count": 41,
   "metadata": {},
   "outputs": [
    {
     "name": "stdout",
     "output_type": "stream",
     "text": [
      "stats= 22.87287815507605   and   p= 0.000840192196419255\n",
      "p is less than 0.05 .So we will the REJECT the null hypothesis(H0)\n"
     ]
    }
   ],
   "source": [
    "stats,p,dof,expected=chi2_contingency(chitable)\n",
    "print(\"stats=\",stats,\"  and   p=\",p)\n",
    "if (p<0.05):\n",
    "    print(\"p is less than 0.05 .So we will the REJECT the null hypothesis(H0)\");\n",
    "elif (p>0.05):\n",
    "    print(\"p is greater than 0.05 .So we will the ACCEPT the null hypothesis(H0)\");\n",
    "    "
   ]
  },
  {
   "cell_type": "markdown",
   "metadata": {},
   "source": [
    "## Testing Attrition and YearsAtCompany variables with chi square test\n",
    "### Hypothesis:\n",
    "1. H0 : There is no dependency between Attrition and YearsAtCompany.\n",
    "2. H1 : There is a dependency between Attrition and YearsAtCompany."
   ]
  },
  {
   "cell_type": "code",
   "execution_count": 42,
   "metadata": {},
   "outputs": [
    {
     "name": "stdout",
     "output_type": "stream",
     "text": [
      "YearsAtCompany  0    1    2    3    4    5    6    7    8    9   ...  27  29  \\\n",
      "Attrition                                                        ...           \n",
      "No              84  333  300  322  272  521  200  235  212  219  ...   6   6   \n",
      "Yes             47  176   81   59   56   61   27   33   27   24  ...   0   0   \n",
      "\n",
      "YearsAtCompany  30  31  32  33  34  36  37  40  \n",
      "Attrition                                       \n",
      "No               3   6   6  12   3   6   3   0  \n",
      "Yes              0   3   3   3   0   0   0   3  \n",
      "\n",
      "[2 rows x 37 columns]\n"
     ]
    }
   ],
   "source": [
    "chitable=pd.crosstab(dataset2.Attrition,dataset2.YearsAtCompany)\n",
    "print(chitable)"
   ]
  },
  {
   "cell_type": "code",
   "execution_count": 43,
   "metadata": {},
   "outputs": [
    {
     "name": "stdout",
     "output_type": "stream",
     "text": [
      "stats= 284.1905063085053   and   p= 2.434867576146702e-40\n",
      "p is less than 0.05 .So we will the REJECT the null hypothesis(H0)\n"
     ]
    }
   ],
   "source": [
    "stats,p,dof,expected=chi2_contingency(chitable)\n",
    "print(\"stats=\",stats,\"  and   p=\",p)\n",
    "if (p<0.05):\n",
    "    print(\"p is less than 0.05 .So we will the REJECT the null hypothesis(H0)\");\n",
    "elif (p>0.05):\n",
    "    print(\"p is greater than 0.05 .So we will the ACCEPT the null hypothesis(H0)\");\n",
    "    "
   ]
  },
  {
   "cell_type": "markdown",
   "metadata": {},
   "source": [
    "## Testing Attrition and YearsSinceLastPromotion variables with chi square test\n",
    "### Hypothesis:\n",
    "1. H0 : There is no dependency between Attrition and YearsSinceLastPromotion.\n",
    "2. H1 : There is a dependency between Attrition and YearsSinceLastPromotion."
   ]
  },
  {
   "cell_type": "code",
   "execution_count": 45,
   "metadata": {},
   "outputs": [
    {
     "name": "stdout",
     "output_type": "stream",
     "text": [
      "YearsSinceLastPromotion    0    1    2    3    4    5   6    7   8   9   10  \\\n",
      "Attrition                                                                     \n",
      "No                       1405  916  396  128  166  129  77  179  54  39  15   \n",
      "Yes                       325  146   81   27   15    6  18   48   0  12   3   \n",
      "\n",
      "YearsSinceLastPromotion  11  12  13  14  15  \n",
      "Attrition                                    \n",
      "No                       65  30  24  24  30  \n",
      "Yes                       6   0   6   3   9  \n"
     ]
    }
   ],
   "source": [
    "chitable=pd.crosstab(dataset2.Attrition,dataset2.YearsSinceLastPromotion)\n",
    "print(chitable)"
   ]
  },
  {
   "cell_type": "code",
   "execution_count": 46,
   "metadata": {},
   "outputs": [
    {
     "name": "stdout",
     "output_type": "stream",
     "text": [
      "stats= 64.22958433145763   and   p= 4.66086831785978e-08\n",
      "p is less than 0.05 .So we will the REJECT the null hypothesis(H0)\n"
     ]
    }
   ],
   "source": [
    "stats,p,dof,expected=chi2_contingency(chitable)\n",
    "print(\"stats=\",stats,\"  and   p=\",p)\n",
    "if (p<0.05):\n",
    "    print(\"p is less than 0.05 .So we will the REJECT the null hypothesis(H0)\");\n",
    "elif (p>0.05):\n",
    "    print(\"p is greater than 0.05 .So we will the ACCEPT the null hypothesis(H0)\");\n",
    "    "
   ]
  },
  {
   "cell_type": "markdown",
   "metadata": {},
   "source": [
    "## Testing Attrition and YearsWithCurrManager variables with chi square test\n",
    "### Hypothesis:\n",
    "1. H0 : There is no dependency between Attrition and YearsWithCurrManager.\n",
    "2. H1 : There is a dependency between Attrition and YearsWithCurrManager."
   ]
  },
  {
   "cell_type": "code",
   "execution_count": 48,
   "metadata": {},
   "outputs": [
    {
     "name": "stdout",
     "output_type": "stream",
     "text": [
      "YearsWithCurrManager   0    1    2    3    4   5   6    7    8    9   10  11  \\\n",
      "Attrition                                                                      \n",
      "No                    530  194  878  367  260  81  73  551  290  171  72  63   \n",
      "Yes                   252   33  149   55   33  12  12   93   30   18   9   3   \n",
      "\n",
      "YearsWithCurrManager  12  13  14  15  16  17  \n",
      "Attrition                                     \n",
      "No                    54  42   9  15   6  21  \n",
      "Yes                    0   0   6   0   0   0  \n"
     ]
    }
   ],
   "source": [
    "chitable=pd.crosstab(dataset2.Attrition,dataset2.YearsWithCurrManager)\n",
    "print(chitable)"
   ]
  },
  {
   "cell_type": "code",
   "execution_count": 49,
   "metadata": {},
   "outputs": [
    {
     "name": "stdout",
     "output_type": "stream",
     "text": [
      "stats= 220.87460913849154   and   p= 1.7543020110084458e-37\n",
      "p is less than 0.05 .So we will the REJECT the null hypothesis(H0)\n"
     ]
    }
   ],
   "source": [
    "stats,p,dof,expected=chi2_contingency(chitable)\n",
    "print(\"stats=\",stats,\"  and   p=\",p)\n",
    "if (p<0.05):\n",
    "    print(\"p is less than 0.05 .So we will the REJECT the null hypothesis(H0)\");\n",
    "elif (p>0.05):\n",
    "    print(\"p is greater than 0.05 .So we will the ACCEPT the null hypothesis(H0)\");\n",
    "    "
   ]
  },
  {
   "cell_type": "code",
   "execution_count": null,
   "metadata": {},
   "outputs": [],
   "source": []
  }
 ],
 "metadata": {
  "kernelspec": {
   "display_name": "Python 3",
   "language": "python",
   "name": "python3"
  },
  "language_info": {
   "codemirror_mode": {
    "name": "ipython",
    "version": 3
   },
   "file_extension": ".py",
   "mimetype": "text/x-python",
   "name": "python",
   "nbconvert_exporter": "python",
   "pygments_lexer": "ipython3",
   "version": "3.7.6"
  }
 },
 "nbformat": 4,
 "nbformat_minor": 4
}
