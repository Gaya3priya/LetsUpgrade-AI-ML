{
 "cells": [
  {
   "cell_type": "markdown",
   "metadata": {},
   "source": [
    "# Assignment  Day 6 "
   ]
  },
  {
   "cell_type": "markdown",
   "metadata": {},
   "source": [
    "## 1) Assuming that we have some email addresses in  \"username@companyname.com\" \n",
    "\n",
    "## format, please write program to print the company name of a given email address. Both \n",
    "\n",
    "## user names and company names are composed of letters only. "
   ]
  },
  {
   "cell_type": "code",
   "execution_count": 1,
   "metadata": {},
   "outputs": [
    {
     "name": "stdout",
     "output_type": "stream",
     "text": [
      "Enter email Id:gayathri@google.com\n",
      "google\n"
     ]
    }
   ],
   "source": [
    "n=input(\"Enter email Id:\").split('@')\n",
    "c=n[1].split('.')\n",
    "if (n[0].isalpha() and c[0].isalpha()):\n",
    "    print(c[0])\n",
    "else:\n",
    "    print(\"Please enter only letters as username and companyname!!\")"
   ]
  },
  {
   "cell_type": "markdown",
   "metadata": {},
   "source": [
    "## 2) Write a program that accepts a comma-separated sequence of words as input and \n",
    "\n",
    "##  prints the words in a comma separated sequence after sorting them alphabetically. "
   ]
  },
  {
   "cell_type": "code",
   "execution_count": 2,
   "metadata": {},
   "outputs": [
    {
     "name": "stdout",
     "output_type": "stream",
     "text": [
      "Enter words:without,hello,bag,world\n",
      "bag,hello,without,world,"
     ]
    }
   ],
   "source": [
    "n=input(\"Enter words:\").split(',')\n",
    "s=sorted(n)\n",
    "for i in s:\n",
    "    print(i,end=\",\")"
   ]
  },
  {
   "cell_type": "markdown",
   "metadata": {},
   "source": [
    "## 3) Create your own Jupyter Notebook for Sets. "
   ]
  },
  {
   "cell_type": "markdown",
   "metadata": {},
   "source": [
    "## Set\n",
    "A set is a collection which is unordered and unindexed. In Python sets are written with curly brackets."
   ]
  },
  {
   "cell_type": "markdown",
   "metadata": {},
   "source": [
    "Note: Sets are unordered, so you cannot be sure in which order the items will appear.\n",
    "\n",
    "Create a set:-\n"
   ]
  },
  {
   "cell_type": "code",
   "execution_count": 3,
   "metadata": {},
   "outputs": [
    {
     "name": "stdout",
     "output_type": "stream",
     "text": [
      "{1, 2, 3, 4, 5}\n"
     ]
    }
   ],
   "source": [
    "aset={1,2,3,4,5}\n",
    "print(aset)"
   ]
  },
  {
   "cell_type": "markdown",
   "metadata": {},
   "source": [
    "Access items:-\n",
    "\n",
    "You cannot access items in a set by referring to an index, since sets are unordered the items has no index."
   ]
  },
  {
   "cell_type": "code",
   "execution_count": 4,
   "metadata": {},
   "outputs": [
    {
     "name": "stdout",
     "output_type": "stream",
     "text": [
      "letsupgrade\n",
      "FCS\n",
      "AI/ML\n"
     ]
    }
   ],
   "source": [
    "aset={\"letsupgrade\",\"FCS\",\"AI/ML\"}\n",
    "for x in aset:\n",
    "    print(x)"
   ]
  },
  {
   "cell_type": "markdown",
   "metadata": {},
   "source": [
    "Change items:-\n",
    "\n",
    "Once a set is created, you cannot change its items, but you can add new items."
   ]
  },
  {
   "cell_type": "markdown",
   "metadata": {},
   "source": [
    "Add items:-\n",
    "\n",
    "To add one item to a set use the add() method.\n",
    "\n",
    "To add more than one item to a set use the update() method."
   ]
  },
  {
   "cell_type": "code",
   "execution_count": 5,
   "metadata": {},
   "outputs": [
    {
     "name": "stdout",
     "output_type": "stream",
     "text": [
      "{'FCS', 'AI/ML', 'letsupgarde', 'Python'}\n"
     ]
    }
   ],
   "source": [
    "aset={\"letsupgarde\",\"FCS\",\"AI/ML\"}\n",
    "aset.add(\"Python\")\n",
    "print(aset)"
   ]
  },
  {
   "cell_type": "code",
   "execution_count": 6,
   "metadata": {},
   "outputs": [
    {
     "name": "stdout",
     "output_type": "stream",
     "text": [
      "{'letsupgarde', 'Python', 'FCS', 'AI/ML', 'Javascript'}\n"
     ]
    }
   ],
   "source": [
    "aset={\"letsupgarde\",\"FCS\",\"AI/ML\"}\n",
    "aset.update([\"Python\",\"Javascript\"])\n",
    "print(aset)"
   ]
  },
  {
   "cell_type": "markdown",
   "metadata": {},
   "source": [
    "Get the length of set:-\n",
    "\n",
    "To determine how many items a set has, use the len() method."
   ]
  },
  {
   "cell_type": "code",
   "execution_count": 7,
   "metadata": {},
   "outputs": [
    {
     "name": "stdout",
     "output_type": "stream",
     "text": [
      "3\n"
     ]
    }
   ],
   "source": [
    "aset={\"letsupgarde\",\"FCS\",\"AI/ML\"}\n",
    "print(len(aset))"
   ]
  },
  {
   "cell_type": "markdown",
   "metadata": {},
   "source": [
    "Remove item:\n",
    "\n",
    "To remove an item in a set, use the remove(), or the discard() method.\n",
    "Remove the last item by using the pop() method\n",
    "\n",
    "Note: If the item to remove does not exist, remove() will raise an error.If the item to remove does not exist, discard() will NOT raise an error.\n"
   ]
  },
  {
   "cell_type": "code",
   "execution_count": 8,
   "metadata": {},
   "outputs": [
    {
     "name": "stdout",
     "output_type": "stream",
     "text": [
      "letsupgarde\n",
      "{'AI/ML', 'Javascript'}\n"
     ]
    }
   ],
   "source": [
    "aset={\"letsupgarde\",\"FCS\",\"AI/ML\",\"Python\",\"Javascript\"}\n",
    "aset.remove(\"Python\")\n",
    "aset.discard(\"FCS\")\n",
    "x=aset.pop()\n",
    "print(x)\n",
    "print(aset)"
   ]
  },
  {
   "cell_type": "code",
   "execution_count": 10,
   "metadata": {},
   "outputs": [
    {
     "name": "stdout",
     "output_type": "stream",
     "text": [
      "set()\n"
     ]
    },
    {
     "ename": "NameError",
     "evalue": "name 'tset' is not defined",
     "output_type": "error",
     "traceback": [
      "\u001b[1;31m---------------------------------------------------------------------------\u001b[0m",
      "\u001b[1;31mNameError\u001b[0m                                 Traceback (most recent call last)",
      "\u001b[1;32m<ipython-input-10-467ddebb1dbd>\u001b[0m in \u001b[0;36m<module>\u001b[1;34m\u001b[0m\n\u001b[0;32m      4\u001b[0m \u001b[1;32mdel\u001b[0m \u001b[0mtset\u001b[0m\u001b[1;33m\u001b[0m\u001b[1;33m\u001b[0m\u001b[0m\n\u001b[0;32m      5\u001b[0m \u001b[0mprint\u001b[0m\u001b[1;33m(\u001b[0m\u001b[0maset\u001b[0m\u001b[1;33m)\u001b[0m\u001b[1;33m\u001b[0m\u001b[1;33m\u001b[0m\u001b[0m\n\u001b[1;32m----> 6\u001b[1;33m \u001b[0mprint\u001b[0m\u001b[1;33m(\u001b[0m\u001b[0mtset\u001b[0m\u001b[1;33m)\u001b[0m\u001b[1;33m\u001b[0m\u001b[1;33m\u001b[0m\u001b[0m\n\u001b[0m",
      "\u001b[1;31mNameError\u001b[0m: name 'tset' is not defined"
     ]
    }
   ],
   "source": [
    "aset={1,2,3,4,5}\n",
    "tset={6,7,8,9,0}\n",
    "aset.clear()\n",
    "del tset\n",
    "print(aset)\n",
    "print(tset)"
   ]
  },
  {
   "cell_type": "markdown",
   "metadata": {},
   "source": [
    "Join two sets:-\n",
    "\n",
    "You can use the union() method that returns a new set containing all items from both sets, or the update() method that inserts all the items from one set into another"
   ]
  },
  {
   "cell_type": "code",
   "execution_count": 11,
   "metadata": {},
   "outputs": [
    {
     "name": "stdout",
     "output_type": "stream",
     "text": [
      "{0, 1, 2, 3, 4, 5, 6, 7, 8, 9}\n"
     ]
    }
   ],
   "source": [
    "aset={1,2,3,4,5}\n",
    "tset={6,7,8,9,0}\n",
    "pset=aset.union(tset)\n",
    "print(pset)"
   ]
  },
  {
   "cell_type": "code",
   "execution_count": 12,
   "metadata": {},
   "outputs": [
    {
     "name": "stdout",
     "output_type": "stream",
     "text": [
      "{0, 1, 2, 3, 4, 5, 6, 7, 8, 9}\n"
     ]
    }
   ],
   "source": [
    "aset={1,2,3,4,5}\n",
    "tset={6,7,8,9,0}\n",
    "aset.update(tset)\n",
    "print(aset)"
   ]
  },
  {
   "cell_type": "markdown",
   "metadata": {},
   "source": [
    "The set() constructor:-\n",
    "\n",
    "It is also possible to use the set() constructor to make a set."
   ]
  },
  {
   "cell_type": "code",
   "execution_count": 13,
   "metadata": {},
   "outputs": [
    {
     "name": "stdout",
     "output_type": "stream",
     "text": [
      "{1, 2, 3, 4, 5}\n"
     ]
    }
   ],
   "source": [
    "lst=[1,2,3,4,5]\n",
    "print(set(lst))"
   ]
  },
  {
   "cell_type": "markdown",
   "metadata": {},
   "source": [
    "## 4) Given a list of n-1 numbers ranging from 1 to n, your task is to find the missing   \n",
    "\n",
    "## number.There are no duplicates. "
   ]
  },
  {
   "cell_type": "code",
   "execution_count": 18,
   "metadata": {},
   "outputs": [
    {
     "name": "stdout",
     "output_type": "stream",
     "text": [
      "Enter numbers:1 3 4 6 5 7 8\n",
      "2\n"
     ]
    }
   ],
   "source": [
    "def getMissingNo(A): \n",
    "    n = len(A) \n",
    "    total = (n + 1)*(n + 2)/2\n",
    "    sum_of_A = sum(A) \n",
    "    return total - sum_of_A \n",
    "  \n",
    "A = list(map(int,input(\"Enter numbers:\").split())) \n",
    "miss = getMissingNo(A) \n",
    "print(int(miss)) "
   ]
  },
  {
   "cell_type": "markdown",
   "metadata": {},
   "source": [
    "## 5) With a given list L, write a program to print this list L after removing all duplicate\n",
    "\n",
    "##  values with original order reserved. "
   ]
  },
  {
   "cell_type": "code",
   "execution_count": 19,
   "metadata": {},
   "outputs": [
    {
     "name": "stdout",
     "output_type": "stream",
     "text": [
      "Enter numbers:12 24 35 24 88 120 155 88 120 155\n",
      "12 24 35 88 120 155 "
     ]
    }
   ],
   "source": [
    "def Remove(duplicate): \n",
    "    final_list = [] \n",
    "    for num in duplicate: \n",
    "        if num not in final_list: \n",
    "            final_list.append(num) \n",
    "    return final_list \n",
    "duplicate = list(map(int,input(\"Enter numbers:\").split()))\n",
    "result=Remove(duplicate)\n",
    "for i in result:\n",
    "    print(i,end=\" \")"
   ]
  }
 ],
 "metadata": {
  "kernelspec": {
   "display_name": "Python 3",
   "language": "python",
   "name": "python3"
  },
  "language_info": {
   "codemirror_mode": {
    "name": "ipython",
    "version": 3
   },
   "file_extension": ".py",
   "mimetype": "text/x-python",
   "name": "python",
   "nbconvert_exporter": "python",
   "pygments_lexer": "ipython3",
   "version": "3.7.6"
  }
 },
 "nbformat": 4,
 "nbformat_minor": 4
}
